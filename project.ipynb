{
 "cells": [
  {
   "cell_type": "markdown",
   "metadata": {},
   "source": [
    "<h1 style=\"text-align: center;\">An Exploration of the Relationship between Leukemia Incidence Rates and Carcinogen Levels in Pennsylvania </h1>\n",
    "<h3 style=\"text-align: center; margin-top: 15px;\"> Erik Williams, Christine Chau, and Danny Rusk</h3> "
   ]
  },
  {
   "cell_type": "markdown",
   "metadata": {},
   "source": [
    "<h2> Introduction </h2>\n"
   ]
  },
  {
   "cell_type": "markdown",
   "metadata": {},
   "source": [
    "<h3> Background </h3>"
   ]
  },
  {
   "cell_type": "markdown",
   "metadata": {},
   "source": [
    "Cancer is an elusive threat affecting millions of lives every year. Despite recent breakthroughs being made into prolonging survival, decreasing incidence, and finding a cure, millions of people succumb to the ailment each year. It is expected by the year 2040, that there will be 29.5 million new cases of cancer and 16.4 million cancer-related deaths, up from 18.1 million new cases and 9.5 million deaths today. Despite these alarming statistics, not all cancer rates are increasing at the same speed. Leukemia has outpaced all others. \n",
    "\n",
    "Leukemia, a cancer of the bone marrow, is unique as it affects all age groups rather equally. In the aging population, it has been found that myeloid Leukemia and chronic lymphocytic Leukemia rates have \"significantly outpaced that of all cancers\" (Hao et al. 2019). The exact cause of this striking trend is unknown, but one hypothesized cause is the rising environmental carcinogen levels due to pollution, climate change, and human behavior. \n",
    "\n",
    "Carcinogens, compounds which cause cancer, are in the air we breathe, the food we eat, and the water we drink. Specifically, drinking water is a main source of human carcinogen exposure. Factors such as factory runoff and illegal dumping have led to heightened carcinogen levels across the United States. Despite efforts of health officials and government organizations to limit this, drinking water remains a source of carcinogen exposure. \n",
    "\n",
    "Three carcinogens are of particular interest. Lead, a heavy metal, is known to increase the risk of lung cancer, stomach cancer, and kidney cancer (Steenland & Poffetta 2000). This carcinogen rose to national prominence due to its levels in urban areas such as Flint, Michigan, where unsafe levels led to significant health defects in the young population. A second carcinogen of interest is arsenic, an element known to cause liver, lung, kidney, bladder, and skin cancer (Smith et al. 1992). Although this is a compound found in nature, pollution has caused levels to reach unsafe heights across the United States. The third carcinogen to be explored is known haloacetic acid five (HAA5), which has been found to cause 3 cases of cancer per 1,000 people exposed to it, an extremely high number (Evans, Campbell, & Naidenko 2020). These carcinogens, and hundreds more, may be the source of rising Leukemia rates across the United States. \n",
    "\n",
    "Despite extensive research, the exact relationship between them and Leukemia incidence rates remains widely unknown. Further, it is ambiguous whether exposure to one carcinogen alone is enough to cause Leukemia or if a synergistic effect is needed between multiple carcinogens. These unknowns led us to the following research questions:"
   ]
  },
  {
   "cell_type": "markdown",
   "metadata": {},
   "source": [
    "<h3> Research Questions </h3> "
   ]
  },
  {
   "cell_type": "markdown",
   "metadata": {},
   "source": [
    " \n",
    "1. Is there a relationship between the levels of carcinogens in drinking water and Leukemia incidence rates?\n",
    "2. Is there a relationship between blood-lead levels (BLLs) and Leukemia incidence rate?\n",
    "3. Is there a univariate or multivariate relationship between carcinogen levels and Leukemia incidence rate?"
   ]
  },
  {
   "cell_type": "markdown",
   "metadata": {},
   "source": [
    "<h3> Conclusions </h3>"
   ]
  },
  {
   "cell_type": "markdown",
   "metadata": {},
   "source": [
    "Our analysis led us to discover that zero of the three carcinogens studied strongly correlate to Leukemia incidence rate in Pennsylvania counties. While this seems contradictory to prior research, there are various possible causes of this. We believe that the underlying reason behind this finding is the extremely low rates of carcinogens across the state of Pennsylvania, the state we chose to examine. This may suggest that the health returns of decreasing carcinogen levels plateau at a certain point. Although this exact level is not known and varies between carcinogens, future research could work to determine this number. The impact of this research could be widespread, allowing environmental agencies to know exactly when a specific carcinogen no longer has to be decreased, and when they can work on lowering another. \n",
    "\n",
    "In the future, we hope to expand the scope of this project to allow for more definitive conclusions to be drawn. To accomplish this goal, we would expand the number of states examined and the number of carcinogens analyzed. Further, we hope to test our hypothesis that reducing carcinogen levels in drinking water once the safe maximum has been reached has little effect on public health. "
   ]
  },
  {
   "cell_type": "markdown",
   "metadata": {},
   "source": [
    "<h2> Data Description  </h2>"
   ]
  },
  {
   "cell_type": "markdown",
   "metadata": {},
   "source": [
    "<h3> Motivation  </h3>"
   ]
  },
  {
   "cell_type": "markdown",
   "metadata": {},
   "source": [
    "1. For what purpose was the dataset created?\n",
    "    - The overarching goal of this project was to better understand cancer, an elusive disease whose risk factors widely remain a mystery. Beyond this, we strived to uncover the relationship between carcinogens (lead, arsenic, and HAA5) in drinking water and Leukemia incidence rate. Further, we hoped to understand whether a single carcinogen is a strong indicator of future Leukemia incidence or multiple together lead to higher risk for Leukemia. Through the creation of this dataset, we were able to analyze each of these interests directly and draw interesting conclusions. \n",
    "    \n",
    "2. Was there a specific task in mind?\n",
    "    - When the dataset was first concieved, we hoped to understand whether common carcinogen levels in drinking water have a large effect on Leukemia incidence rate. The specific task in mind when the dataset was created was to discover whether we could model Leukemia incidence solely based on carcinogen levels. This included creating both univariate and multivariate models. \n",
    "\n",
    "3. Was there a specific gap that needed to be filled?\n",
    "    - Yes. As explored in the introduction, Leukemia is often ignored when exploring the relationship betweem carcinogens and incidence rate. It is unknown which carcinogens specifically affect its incidence rate. \n",
    "\n",
    "4. Who created the dataset?\n",
    "    - Our team utilized various organizations to create the dataset which was analyzed. These include the following:\n",
    "            - (a) The Pennsylvania Department of Health, whose work can be explored at  https://www.phaim1.health.pa.gov/EDD/WebForms/WaterCntySt.aspx. This was utilized to compile data regarding Arsenic and HAA5 levels in the Pennsylvania counties we explored.\n",
    "            - (b) The National Cancer Institute, whose work can be accessed at https://www.statecancerprofiles.cancer.gov/incidencerates/index.php?stateFIPS=01&areatype=county&cancer=001&race=00&sex=0&age=001&type=incd&sortVariableName=rate&sortOrder=default&output=0#results. We utilized this organization to compile incidence rates and trends in incidence rates of Leukemia. \n",
    "            - (c) The Center for Disease Control, whose work we utilized can be found at https://www.cdc.gov/nceh/lead/data/state/padata.htm. This organization was utilized to discover BLLs in the Pennsylvania counties we explored. \n",
    "\n",
    "    - We then worked to combine these datsets into one comprehensive dataset.\n",
    "    \n",
    "5. Who funded the dataset?\n",
    "    - This work was not funded, but made for the interest of the researchers alone.\n"
   ]
  },
  {
   "cell_type": "markdown",
   "metadata": {},
   "source": [
    "<h3> Composition  </h3>"
   ]
  },
  {
   "cell_type": "markdown",
   "metadata": {},
   "source": [
    "1. What do the instances that comprise the dataset represent?\n",
    "    - The instances of the dataset are counties in Pennsylvania. Outside of representing the people within these counties, these counties are meant to represent the greater United States. We chose Pennsylvania counties as we believed the state is a cross section of America as a whole, having both farmland and cities, both Republican and Democratic counties, both destitute and lavish communities. For this dataset, 31 of Pennsylvania's 67 counties were analyzed. These counties were chosen on the quality of their data alone, meaning we only analyzed counties whose data regarding Leukemia incidence rate and carcionogens levels were readily available and of high quality.\n",
    "\n",
    "2. How many instances are there in total?\n",
    "    - Counties: 31. They include Adams, Allegheny, Armstrong, Beaver, Berks, Blair, Bucks, Cambria, Chester, Crawford, Cumberland, Delaware, Erie, Franklin, Indiana, Lackawanna, Lancaster, Lebanon, Lehigh, Luzerne, Lycoming, McKean, Mercer, Montgomery, Northampton, Philadelphia, Schuylkill, Warren, Washington, Westmoreland, and York.\n",
    "\n",
    "3. Does the dataset contain all possible instances or is it a sample of instances from a larger set?\n",
    "    - The dataset compiled is a detailed sample of a much larger set of all possible data. We had to exclude 36 Pennsylvanian counties. Although not all counties in Pennsylvania were examined, we included all of which matched our criteria of having both expansive and high quality data. We believe the dataset is large enough to be effective in analyzing our research question. \n",
    "    \n",
    "4. What data does each instance consist of?\n",
    "    - Our dataset completely consists of raw data regarding Leukemia incidence rate, BLLs, and carcinogen levels in drinking water. We have multiple columns which consist of Leukemia incidence rates and carcinogen levels throughout three years. These are described below. \n",
    "    \n",
    "    \n",
    "        - Years: When creating this dataset, we decided to utilize the years 2014, 2015, and 2016. This choice was made as these three years allowed for the maximum number of counties to be included in the data analysis. \n",
    "        - State: We chose to utilize Pennsylvania for two reasons. First, the state had a surplus of high quality, organized data. This allowed for our group to conduct accurate analysis. Further, out of the multiple states that had quality data, we chose Pennsylvania as it is known to be a cross section of America. \n",
    "        - Carcinogen Levels: We chose to explore lead, HAA5, and arsenic as they are known as some of the most prevalent carcinogens. This choice was made based on prior research which highlighted the effects of these compounds. It is important to note we utilized BLLs as a proxy for lead exposure in the environment. This choice was made as no dataset was readily available which included lead levels in drinking water.\n",
    "    \n",
    "\n",
    "5. Is any information missing from individual instances?\n",
    "    - No instance included in the final analysis is missing any information.\n",
    "\n",
    "6. Are there recommended data splits?\n",
    "    - We recommend that you choose one year to train your data and use remaining two to analyze data. This ensures that confounding variables between years do not affect that analysis.\n",
    "    \n",
    "7. Is the dataset self-contained?\n",
    "    - Yes. All data in this dataset is provided. You can explore more data though through the links provided in the \"Motivation\" Section.\n",
    "    \n",
    "8. Is the data confidential?\n",
    "    - No. All data is publicly acccesible.\n",
    "\n",
    "9. Does the dataset induce anxiety?\n",
    "    - No. We believe the data should be suitable for all audiences.\n",
    "\n",
    "10. Does the dataset relate to people?\n",
    "    - Yes, but specific people are anonymous.\n",
    "\n",
    "11. Does the dataset identify subpopulations?\n",
    "    - Yes, subpopulations are by county.\n",
    "\n",
    "12. Is it possible to identify individuals?\n",
    "    - No. All data is completely anonymous.\n",
    "    \n",
    "13. Does the dataset contain sensitive information?\n",
    "    - No. All data is anonymous.\n",
    "    "
   ]
  },
  {
   "cell_type": "markdown",
   "metadata": {},
   "source": [
    "<h3> Collection Process  </h3>"
   ]
  },
  {
   "cell_type": "markdown",
   "metadata": {},
   "source": [
    "1. How was the data associated with each instance acquired?\n",
    "    - The data collected was directly observable in all cases, ensuring accuracy of the data. The specific observation of each datapoint is described below:\n",
    "            - Leukemia Rates: Leukemia rates are collected through extensive medical testing. A positive case is logged into the dataset we utilized. A disclaimer of this information though is that it is possible for misdiagnoses or for people to simply never be diagnosed. These instances are rare. Therefore, this dataset is objective and verified.\n",
    "            - Blood-lead levels: Similar to Leukemia data, this information is collected through extremely accurate medical testing. It is unlikely that the data obtained is inaccurate. This is further bolstered by the large number of children tested, allowing for an accurate overview of blood-lead levels in counties.\n",
    "            - Arsenic/HAA5: The levels of both of these carcinogens were directly tested by health officials in their respective counties.\n",
    "\n",
    "2. What mechanisms or procedures were used to collect the data?\n",
    "    - Data was collected by research into finding the most accurate and high quality datasets. This led us to government organizations, who are held to the highest standard of accuracy. Therefore, we utilized data from the NCI, Pennsylvania state government, and CDC.\n",
    "    \n",
    "3. If the dataset is a sample from a larger set, what was the sampling strategy?\n",
    "    - The larger set of data that our dataset derives from is all 50 states in the United states and all carcinogens. Collecting and analyzing such a dataset was unrealistic given the limitations of this project. Therefore, we collected a representative sample. First, we chose the state to analyze. This led us to Pennsylvania, a large and extremely diverse state whose data was high quality and easily accessible. Other states were available and we hope to explore these in the future. Next, we decided which carcinogens to explore. Our goal going into this choice was to pick carcinogens which are prevalent both in Pennsylvania and across the United States. This led us to various options, such as nitrate, uranium, arsenic, HAA5, and lead. From these options, we decided to utilize carcinogens which all people are exposed to, leading us to pick carcinogens prevalent in drinking water. Finally, we decided to choose carcinogens which cause a diverse range of cancers. As arsenic, lead, and HAA5 have been correlated to lung to bladder to skin cancer, these three were chosen. Finally, we chose the counties we did based off of quality of data alone. If a county had all information available to be explored, it was included in the dataset. Finally, the years 2014, 2015, and 2016 were chosen to allow for extensive analysis. This ensured that a year with a significant confounding variable would not be chosen alone and affect the data analysis. \n",
    "\n",
    "4. Were any ethical review processs conducted?\n",
    "    - No ethical review was done on our project, but as we obtained data from the CDC, NCI, and Pennsylvania State Government, the ethical collection of data can be assured.\n",
    "    \n",
    "5. Did you collect the data from the individuals in question directly,or obtain it via third parties or other sources\n",
    "    - We obtained our data from third party sources, as described above. \n",
    "    \n",
    "6. Were the individuals in question notified about the data collection?\n",
    "    - No.\n",
    "    \n",
    "7. Did the individuals in question consent to the collection and use of their data?\n",
    "    - Medical data is protected by HIPPA laws. Therefore, it can be assumed that the NCI and CDC had to obtain written consent. Our group did not obtain this as we collected our data via a third party source.\n",
    "    \n",
    "8. Has an analysis of the potential impact of the dataset and its use on data subjects (e.g., a data protection impact analysis)been conducted?\n",
    "    - No. This has not been conducted as it is not believed the data can harm any individuals in any way. "
   ]
  },
  {
   "cell_type": "markdown",
   "metadata": {},
   "source": [
    "<h3> Preprocessing/Cleaning/Labeling  </h3>"
   ]
  },
  {
   "cell_type": "markdown",
   "metadata": {},
   "source": [
    "1. Was any preprocessing/cleaning/labeling of the data done? \n",
    "    - Yes. There was extensive data cleaning done on this dataset in order to ensure it was effective to both work with and draw conclusions from. As we combined a total of three datasets, data cleaning was substantial. The exact process of cleaning the data can be found in the Data Cleaning Appendix. \n",
    "        \n",
    "2. Was the “raw” data saved in addition to the preprocessed/cleaned/labeled data?\n",
    "    - The raw data can all be found at the linked websites in the \"Motives\" section.\n",
    "    \n",
    "3. Is the software used to preprocess/clean/label the instances available?\n",
    "    - Yes. All data cleaning was done either in Jupyer Notebook utilizing pandas"
   ]
  },
  {
   "cell_type": "markdown",
   "metadata": {},
   "source": [
    "<h3> Uses </h3>\n"
   ]
  },
  {
   "cell_type": "markdown",
   "metadata": {},
   "source": [
    "1. Has the dataset been used for any tasks already?\n",
    "    - No. The dataset created has only been utilized for our project.\n",
    "    \n",
    "2. What (other) tasks could the dataset be used for?\n",
    "    - This dataset could be used for multiple purposes, especially if expanded. One interesting question we did not explore is how the number of chidlren tested for high BLLs coincides with carcinogen levels in drinking water. This could possibly explore how other similar carcinogens, such as uranium, affect the wellbeing of young children exposed at young ages. This is as being exposed to such carcinogens could lead to ailments similar to those exposed to lead. This data could also be combined with other to explore endless other questions regarding carcinogens and their affect on cancer incidence. \n",
    "    \n",
    "3. Is there anything about the composition of the dataset or the way it was collected and preprocessed/cleaned/labeled that might impact future uses?\n",
    "    - We only utilized data that was extensive. A future user may want to take this into account as small counties are somewhat underrepresented.\n",
    "    - The carcinogens we chose do not encompass all carcinogens in drinking water. One should take this into account when drawing conclusions.\n",
    "    - Leukemia is a family of cancers with distinct properties. This should be taken into account in future studies.\n",
    "    \n",
    "4. Are there tasks for which the dataset should not be used? \n",
    "    - This dataset does not allow for causation to be found, only correlation. One must be sure to not inflate the results of any conclusions coming from this dataset regarding causation of a specific cancer from a carcinogen."
   ]
  },
  {
   "cell_type": "markdown",
   "metadata": {},
   "source": [
    "<h2> Preregistration Analysis </h2> "
   ]
  },
  {
   "cell_type": "markdown",
   "metadata": {},
   "source": [
    "<h3> Analysis 1: Blood-Lead Levels vs Leukemia Incidence </h3>"
   ]
  },
  {
   "cell_type": "markdown",
   "metadata": {},
   "source": [
    "<h4> Type of Test </h4> \n",
    "\n",
    "A Linear Regression Model between the percentage of children whose blood lead levels was above 5 micrograms per deciliter and the annual age-adjustated incidence rate of Leukemia per 100,000 people. "
   ]
  },
  {
   "cell_type": "markdown",
   "metadata": {},
   "source": [
    "<h4> Hypothesis </h4> \n",
    "\n",
    "We hypothesize that a higher percentage of children having blood-lead levels above 5 micrograms per deciliter will correlate with a higher average incide rate of Leukemia. "
   ]
  },
  {
   "cell_type": "markdown",
   "metadata": {},
   "source": [
    "<h4> Analysis </h4> \n",
    "\n",
    "We will create a linear regression model between these two variables. We will do this for each year from 2014 to 2016 in order to ensure that a single year does not lead to an inaccurate conclusion. After creating the model, we will discover the regression score between the two sets of data."
   ]
  },
  {
   "cell_type": "markdown",
   "metadata": {},
   "source": [
    "<h3> Analysis 2: Carcinogen Levels in Drinking Water vs Leukemia Incidence </h3>"
   ]
  },
  {
   "cell_type": "markdown",
   "metadata": {},
   "source": [
    "<h4> Type of Test </h4>\n",
    "\n",
    "A Multivariate Regression model between arsenic levels in drinking water, HAA5 levels in drinking water, and age-adjusted Leukemia incidence rate per 100,000 people."
   ]
  },
  {
   "cell_type": "markdown",
   "metadata": {},
   "source": [
    "<h4> Hypothesis </h4> \n",
    "\n",
    "We hypothesize that higher levels of arsenic and HAA5 in drinking water will correlate with a higher incidence rate of Leukemia.   "
   ]
  },
  {
   "cell_type": "markdown",
   "metadata": {},
   "source": [
    "<h4> Analysis </h4>\n",
    "\n",
    "We will create a Multivariate Regression Model between these three datasets. Again, we will do this for each year from 2014 to 2016 to mitigate the affect of bias on the analysis. This model will allow for a regression score to be determined, which we can draw conclusions from."
   ]
  },
  {
   "cell_type": "markdown",
   "metadata": {},
   "source": [
    "<h2> Data Analysis </h2> "
   ]
  },
  {
   "cell_type": "markdown",
   "metadata": {},
   "source": [
    "<h3> Data Exploration </h3>"
   ]
  },
  {
   "cell_type": "code",
   "execution_count": 104,
   "metadata": {},
   "outputs": [],
   "source": [
    "# Import packages necessary for our data analysis\n",
    "import pandas as pd\n",
    "import numpy as np\n",
    "import matplotlib.pyplot as plt\n",
    "from scipy import stats\n",
    "from scipy.stats import poisson, ttest_ind\n",
    "import sklearn\n",
    "from sklearn.linear_model import LinearRegression\n",
    "from sklearn.model_selection import train_test_split\n",
    "from scipy import stats\n",
    "from scipy.stats import poisson, ttest_ind, norm\n",
    "import seaborn as sns\n",
    "from mpl_toolkits import mplot3d"
   ]
  },
  {
   "cell_type": "markdown",
   "metadata": {},
   "source": [
    "Following data cleaning, our dataframe looked like this:"
   ]
  },
  {
   "cell_type": "code",
   "execution_count": 105,
   "metadata": {},
   "outputs": [
    {
     "data": {
      "text/html": [
       "<div>\n",
       "<style scoped>\n",
       "    .dataframe tbody tr th:only-of-type {\n",
       "        vertical-align: middle;\n",
       "    }\n",
       "\n",
       "    .dataframe tbody tr th {\n",
       "        vertical-align: top;\n",
       "    }\n",
       "\n",
       "    .dataframe thead th {\n",
       "        text-align: right;\n",
       "    }\n",
       "</style>\n",
       "<table border=\"1\" class=\"dataframe\">\n",
       "  <thead>\n",
       "    <tr style=\"text-align: right;\">\n",
       "      <th></th>\n",
       "      <th>Unnamed: 0</th>\n",
       "      <th>County</th>\n",
       "      <th>Age-Adjusted Incidence Rate(‚Ä†) - cases per 100,000</th>\n",
       "      <th>2014 Percentage of Children with Confirmed BLLs ≥ 10 µg/dL</th>\n",
       "      <th>2015 Percentage of Children with Confirmed BLLs ≥ 10 µg/dL</th>\n",
       "      <th>2016 Percentage of Children with Confirmed BLLs ≥ 10 µg/dL</th>\n",
       "      <th>2014 Percentage of Children with Confirmed BLLs ≥ 5 µg/dL</th>\n",
       "      <th>2015 Percentage of Children with Confirmed BLLs ≥ 5 µg/dL</th>\n",
       "      <th>2016 Percentage of Children with Confirmed BLLs ≥ 5 µg/dL</th>\n",
       "      <th>Weighted_Average_2014_HAA5</th>\n",
       "      <th>Weighted_Average_2015_HAA5</th>\n",
       "      <th>Weighted_Average_2016_HAA5</th>\n",
       "      <th>Weighted_Average_2014_Arsenic</th>\n",
       "      <th>Weighted_Average_2015_Arsenic</th>\n",
       "      <th>Weighted_Average_2016_Arsenic</th>\n",
       "    </tr>\n",
       "  </thead>\n",
       "  <tbody>\n",
       "    <tr>\n",
       "      <th>0</th>\n",
       "      <td>0</td>\n",
       "      <td>Adams County</td>\n",
       "      <td>17.5</td>\n",
       "      <td>1.6</td>\n",
       "      <td>1.6</td>\n",
       "      <td>1.1</td>\n",
       "      <td>8.2</td>\n",
       "      <td>7.0</td>\n",
       "      <td>4.7</td>\n",
       "      <td>9.026538</td>\n",
       "      <td>5.805758</td>\n",
       "      <td>6.104211</td>\n",
       "      <td>0.700000</td>\n",
       "      <td>1.495946</td>\n",
       "      <td>0.700000</td>\n",
       "    </tr>\n",
       "    <tr>\n",
       "      <th>1</th>\n",
       "      <td>1</td>\n",
       "      <td>Allegheny County</td>\n",
       "      <td>16.3</td>\n",
       "      <td>1.2</td>\n",
       "      <td>1.0</td>\n",
       "      <td>0.9</td>\n",
       "      <td>5.4</td>\n",
       "      <td>4.6</td>\n",
       "      <td>3.8</td>\n",
       "      <td>14.252286</td>\n",
       "      <td>18.495556</td>\n",
       "      <td>15.983889</td>\n",
       "      <td>0.663636</td>\n",
       "      <td>0.641176</td>\n",
       "      <td>0.613636</td>\n",
       "    </tr>\n",
       "    <tr>\n",
       "      <th>2</th>\n",
       "      <td>2</td>\n",
       "      <td>Armstrong County</td>\n",
       "      <td>12.6</td>\n",
       "      <td>1.7</td>\n",
       "      <td>2.3</td>\n",
       "      <td>1.6</td>\n",
       "      <td>8.2</td>\n",
       "      <td>10.3</td>\n",
       "      <td>11.4</td>\n",
       "      <td>10.829524</td>\n",
       "      <td>16.782778</td>\n",
       "      <td>15.458947</td>\n",
       "      <td>0.880000</td>\n",
       "      <td>0.868750</td>\n",
       "      <td>0.650000</td>\n",
       "    </tr>\n",
       "    <tr>\n",
       "      <th>3</th>\n",
       "      <td>3</td>\n",
       "      <td>Beaver County</td>\n",
       "      <td>14.7</td>\n",
       "      <td>1.9</td>\n",
       "      <td>1.4</td>\n",
       "      <td>1.2</td>\n",
       "      <td>8.1</td>\n",
       "      <td>6.3</td>\n",
       "      <td>5.6</td>\n",
       "      <td>11.861600</td>\n",
       "      <td>14.681304</td>\n",
       "      <td>13.998519</td>\n",
       "      <td>0.833333</td>\n",
       "      <td>1.044615</td>\n",
       "      <td>0.916667</td>\n",
       "    </tr>\n",
       "    <tr>\n",
       "      <th>4</th>\n",
       "      <td>4</td>\n",
       "      <td>Berks County</td>\n",
       "      <td>16.7</td>\n",
       "      <td>1.0</td>\n",
       "      <td>1.3</td>\n",
       "      <td>2.3</td>\n",
       "      <td>2.5</td>\n",
       "      <td>5.7</td>\n",
       "      <td>8.1</td>\n",
       "      <td>9.818605</td>\n",
       "      <td>6.944490</td>\n",
       "      <td>5.652097</td>\n",
       "      <td>0.820833</td>\n",
       "      <td>1.154098</td>\n",
       "      <td>0.825455</td>\n",
       "    </tr>\n",
       "  </tbody>\n",
       "</table>\n",
       "</div>"
      ],
      "text/plain": [
       "   Unnamed: 0            County  \\\n",
       "0           0      Adams County   \n",
       "1           1  Allegheny County   \n",
       "2           2  Armstrong County   \n",
       "3           3     Beaver County   \n",
       "4           4      Berks County   \n",
       "\n",
       "   Age-Adjusted Incidence Rate(‚Ä†) - cases per 100,000  \\\n",
       "0                                               17.5      \n",
       "1                                               16.3      \n",
       "2                                               12.6      \n",
       "3                                               14.7      \n",
       "4                                               16.7      \n",
       "\n",
       "   2014 Percentage of Children with Confirmed BLLs ≥ 10 µg/dL  \\\n",
       "0                                                1.6            \n",
       "1                                                1.2            \n",
       "2                                                1.7            \n",
       "3                                                1.9            \n",
       "4                                                1.0            \n",
       "\n",
       "   2015 Percentage of Children with Confirmed BLLs ≥ 10 µg/dL  \\\n",
       "0                                                1.6            \n",
       "1                                                1.0            \n",
       "2                                                2.3            \n",
       "3                                                1.4            \n",
       "4                                                1.3            \n",
       "\n",
       "   2016 Percentage of Children with Confirmed BLLs ≥ 10 µg/dL  \\\n",
       "0                                                1.1            \n",
       "1                                                0.9            \n",
       "2                                                1.6            \n",
       "3                                                1.2            \n",
       "4                                                2.3            \n",
       "\n",
       "   2014 Percentage of Children with Confirmed BLLs ≥ 5 µg/dL  \\\n",
       "0                                                8.2           \n",
       "1                                                5.4           \n",
       "2                                                8.2           \n",
       "3                                                8.1           \n",
       "4                                                2.5           \n",
       "\n",
       "   2015 Percentage of Children with Confirmed BLLs ≥ 5 µg/dL  \\\n",
       "0                                                7.0           \n",
       "1                                                4.6           \n",
       "2                                               10.3           \n",
       "3                                                6.3           \n",
       "4                                                5.7           \n",
       "\n",
       "   2016 Percentage of Children with Confirmed BLLs ≥ 5 µg/dL  \\\n",
       "0                                                4.7           \n",
       "1                                                3.8           \n",
       "2                                               11.4           \n",
       "3                                                5.6           \n",
       "4                                                8.1           \n",
       "\n",
       "   Weighted_Average_2014_HAA5  Weighted_Average_2015_HAA5  \\\n",
       "0                    9.026538                    5.805758   \n",
       "1                   14.252286                   18.495556   \n",
       "2                   10.829524                   16.782778   \n",
       "3                   11.861600                   14.681304   \n",
       "4                    9.818605                    6.944490   \n",
       "\n",
       "   Weighted_Average_2016_HAA5  Weighted_Average_2014_Arsenic  \\\n",
       "0                    6.104211                       0.700000   \n",
       "1                   15.983889                       0.663636   \n",
       "2                   15.458947                       0.880000   \n",
       "3                   13.998519                       0.833333   \n",
       "4                    5.652097                       0.820833   \n",
       "\n",
       "   Weighted_Average_2015_Arsenic  Weighted_Average_2016_Arsenic  \n",
       "0                       1.495946                       0.700000  \n",
       "1                       0.641176                       0.613636  \n",
       "2                       0.868750                       0.650000  \n",
       "3                       1.044615                       0.916667  \n",
       "4                       1.154098                       0.825455  "
      ]
     },
     "execution_count": 105,
     "metadata": {},
     "output_type": "execute_result"
    }
   ],
   "source": [
    "pa = pd.read_csv('pennFinal2.csv')\n",
    "pa.head()"
   ]
  },
  {
   "cell_type": "markdown",
   "metadata": {},
   "source": [
    "## Leukemia Data"
   ]
  },
  {
   "cell_type": "markdown",
   "metadata": {},
   "source": [
    "The first facet of our dataset that we explored was Leukemia incidence rate. We hoped to understand general trends in the data, its distribution, and whether outliers exist. This is explored below, with some interesting findings!"
   ]
  },
  {
   "cell_type": "code",
   "execution_count": 106,
   "metadata": {},
   "outputs": [
    {
     "name": "stdout",
     "output_type": "stream",
     "text": [
      "For 2014, the mean Leukemia incidence rate is: 15.04 ,the median is: 14.90 ,and the standard deviation is: 1.87 \n"
     ]
    }
   ],
   "source": [
    "# Obtain Leukemia incidence rate column\n",
    "leukemia = pa['Age-Adjusted Incidence Rate(‚Ä†) - cases per 100,000'].dropna()\n",
    "# Calculate mean, median, std, correlation and covariance\n",
    "leukemia_mean = leukemia.mean()\n",
    "leukemia_median = leukemia.median()\n",
    "leukemia_std = leukemia.std()\n",
    "print(\"For 2014, the mean Leukemia incidence rate is: {:.2f} ,the median is: {:.2f} ,and the standard deviation is: {:.2f} \".format(leukemia_mean,leukemia_median,leukemia_std))"
   ]
  },
  {
   "cell_type": "markdown",
   "metadata": {},
   "source": [
    "The mean and median of this data, 15.04 and 14.90 respectively, hint towards their being no significant outlier in the data. This is as the mean and median are practically equivalent. This possibly suggests Leukemia incidence is similar across all of Pennsylvania. Let's explore this further by examining the spead of datapoints."
   ]
  },
  {
   "cell_type": "code",
   "execution_count": 107,
   "metadata": {},
   "outputs": [
    {
     "data": {
      "text/plain": [
       "(10.0, 20.0)"
      ]
     },
     "execution_count": 107,
     "metadata": {},
     "output_type": "execute_result"
    },
    {
     "data": {
      "image/png": "[encoded data removed]",
      "text/plain": [
       "<Figure size 432x288 with 1 Axes>"
      ]
     },
     "metadata": {
      "needs_background": "light"
     },
     "output_type": "display_data"
    }
   ],
   "source": [
    "# Create boxplot\n",
    "ax = sns.boxplot(data=leukemia)\n",
    "ax = sns.swarmplot(data=leukemia, color=\"blue\")\n",
    "plt.xticks(ticks = [1],labels = ['Leukemia Incidence Rate'])\n",
    "plt.ylabel('Leukemia Incidence Rate per 100,000')\n",
    "plt.title('Spread of Leukemia Incidence Rate')\n",
    "ax.set_ylim((10, 20))"
   ]
  },
  {
   "cell_type": "markdown",
   "metadata": {},
   "source": [
    "This graph demonstrates that incidence rates are somewhat evenly spread between 12 and just above 18. The range is tight, implying little variation between counties. Despite this, outliers exits. Lets explore these outliers."
   ]
  },
  {
   "cell_type": "code",
   "execution_count": 108,
   "metadata": {},
   "outputs": [
    {
     "name": "stdout",
     "output_type": "stream",
     "text": [
      "              County  Age-Adjusted Incidence Rate(‚Ä†) - cases per 100,000\n",
      "5       Blair County                                               17.3   \n",
      "9    Crawford County                                               17.5   \n",
      "0       Adams County                                               17.5   \n",
      "14    Indiana County                                               18.6   \n",
      "16  Lancaster County                                               18.6   \n"
     ]
    }
   ],
   "source": [
    "# Obtain counties and their Leukemia incidence rate\n",
    "leukemialist = pa[['County', 'Age-Adjusted Incidence Rate(‚Ä†) - cases per 100,000']]\n",
    "# Sort counties by Leukemia incidence rate\n",
    "leukemialist = leukemialist.sort_values('Age-Adjusted Incidence Rate(‚Ä†) - cases per 100,000')\n",
    "# Print counties with highest 5 Leukemia rates\n",
    "print(leukemialist.iloc[-5:])"
   ]
  },
  {
   "cell_type": "markdown",
   "metadata": {},
   "source": [
    "The five counties displayed above have the highest Leukemia incidence rates. We will take note of this and return to it throughout data exploration. We next determined the counties with the lowest Leukemia incidence rates."
   ]
  },
  {
   "cell_type": "code",
   "execution_count": 109,
   "metadata": {},
   "outputs": [
    {
     "name": "stdout",
     "output_type": "stream",
     "text": [
      "                 County  Age-Adjusted Incidence Rate(‚Ä†) - cases per 100,000\n",
      "25  Philadelphia County                                               11.7   \n",
      "27        Warren County                                               12.0   \n",
      "2      Armstrong County                                               12.6   \n",
      "6          Bucks County                                               12.6   \n",
      "23    Montgomery County                                               13.2   \n"
     ]
    }
   ],
   "source": [
    "# Print 5 counties with the lowest Leukemia incidence ratess\n",
    "print(leukemialist.iloc[:5])"
   ]
  },
  {
   "cell_type": "markdown",
   "metadata": {},
   "source": [
    "Of these 5 counties, Philadelphia County, the most populous in the stae, has the lowest incidence. Using the z-score, let's discover how extraordinary this value is."
   ]
  },
  {
   "cell_type": "code",
   "execution_count": 110,
   "metadata": {},
   "outputs": [
    {
     "name": "stdout",
     "output_type": "stream",
     "text": [
      "The Z-score of Philadelphia's Leukemia incidence rate is 1.79\n"
     ]
    }
   ],
   "source": [
    "print(\"The Z-score of Philadelphia's Leukemia incidence rate is {:.2f}\".format((15.04-11.7)/1.87))"
   ]
  },
  {
   "cell_type": "markdown",
   "metadata": {},
   "source": [
    "This Z-score indicates that Philadelphia County has a Leukemia incidence rate of almost two standard deviations below the average, which could be for many reasons, such as the county's lead levels."
   ]
  },
  {
   "cell_type": "markdown",
   "metadata": {},
   "source": [
    "## Let us begin our exploration with 2014 Lead data..."
   ]
  },
  {
   "cell_type": "markdown",
   "metadata": {},
   "source": [
    "The following analysis is a prototypical carcinogen analysis. We will show our lead exploration. If you are interested in how this was carried out for Arsenic and HAA5, please reference the Data Exploration Appendix. "
   ]
  },
  {
   "cell_type": "markdown",
   "metadata": {},
   "source": [
    "We first examined data regarding the percentage of children who had BLLs above 5 micrograms per deciliter. We hoped to understand whether having elevated blood-lead levels is related to a county's Leukemia incidence rate. "
   ]
  },
  {
   "cell_type": "code",
   "execution_count": 111,
   "metadata": {},
   "outputs": [
    {
     "name": "stdout",
     "output_type": "stream",
     "text": [
      "For 2014, the mean percentage of children with BLLs above 5 micrograms: 7.66 ,the median is: 7.50 ,and the standard deviation is: 3.98 \n"
     ]
    }
   ],
   "source": [
    "# Obtain column of blood-lead data from 2014 above 5 micrograms per deciliter\n",
    "lead_14_5 = pa['2014 Percentage of Children with Confirmed BLLs ≥ 5 µg/dL']\n",
    "# Calculate mean, median, std, correlation and covariance\n",
    "lead_mean_14_5 = lead_14_5.mean()\n",
    "lead_median_14_5 = lead_14_5.median()\n",
    "lead_std_14_5 = lead_14_5.std()\n",
    "print(\"For 2014, the mean percentage of children with BLLs above 5 micrograms: {:.2f} ,the median is: {:.2f} ,and the standard deviation is: {:.2f} \".format(lead_mean_14_5,lead_median_14_5,lead_std_14_5))"
   ]
  },
  {
   "cell_type": "markdown",
   "metadata": {},
   "source": [
    "The standard deviation is almost half of the median. This may hint at a trend of varied BLLs throughout Pennsylvania. We then thought that outlier blood-lead levels could be the reason for Leukemia outliers. We explored this by determining the top counties by BLLs."
   ]
  },
  {
   "cell_type": "markdown",
   "metadata": {},
   "source": [
    "The most pertinent piece of information found was that Lancaster county, which has the highest Leukemia rate in all of Pennsylvania, has the fifth lowest percentage of BLLs above five micrograms per deciliter. This may hint towards little correlation between the two variables. If you wish to see how this was determined, please refer to the data cleaning appendix. We then looked at data for ten micrograms per deciliter."
   ]
  },
  {
   "cell_type": "code",
   "execution_count": 112,
   "metadata": {},
   "outputs": [
    {
     "name": "stdout",
     "output_type": "stream",
     "text": [
      "For 2014, the mean percentage of children with blood lead levels above 10 micrograms: 1.83 ,the median is: 1.60 ,and the standard deviation is: 1.02 \n"
     ]
    }
   ],
   "source": [
    "# Obtain 2014 data for percentage of children with blood-lead levels above 10 micrograms\n",
    "lead_14_10 = pa['2014 Percentage of Children with Confirmed BLLs ≥ 10 µg/dL']\n",
    "# Calculate mean, median, std, correlation and covariance\n",
    "lead_mean_14_10 = lead_14_10.mean()\n",
    "lead_median_14_10 = lead_14_10.median()\n",
    "lead_std_14_10 = lead_14_10.std()\n",
    "print(\"For 2014, the mean percentage of children with blood lead levels above 10 micrograms: {:.2f} ,the median is: {:.2f} ,and the standard deviation is: {:.2f} \".format(lead_mean_14_10,lead_median_14_10,lead_std_14_10))"
   ]
  },
  {
   "cell_type": "markdown",
   "metadata": {},
   "source": [
    "The standard deviation is strikingly close to the mean and median of the dataset, hinting at a wide distribution. When we explored outliers in this dataset, one interesting result was that three counties with the lowest Leukemia rate are also on the list of lowest percentage of children with BLLs above ten micrograms per deciliter. This can be found in the data exploration appendix. We next hoped to determine actual correlation and covariance values. "
   ]
  },
  {
   "cell_type": "code",
   "execution_count": 113,
   "metadata": {},
   "outputs": [
    {
     "name": "stdout",
     "output_type": "stream",
     "text": [
      "For 2014, the correlation is: -0.06 and the covariance is: -0.48 between percentage of children with blood lead levels above 5 micrograms and leukemia incidence\n"
     ]
    }
   ],
   "source": [
    "# Calculate correlation and covariance between blood-lead levels and leukemia incidence for 2014\n",
    "leukemia =pa['Age-Adjusted Incidence Rate(‚Ä†) - cases per 100,000']\n",
    "lead_corr_14_5 = leukemia.corr(lead_14_5)\n",
    "lead_cov_14_5 = leukemia.cov(lead_14_5)\n",
    "print(\"For 2014, the correlation is: {:.2f} and the covariance is: {:.2f} between percentage of children with blood lead levels above 5 micrograms and leukemia incidence\".format(lead_corr_14_5, lead_cov_14_5))"
   ]
  },
  {
   "cell_type": "markdown",
   "metadata": {},
   "source": [
    "The covariance and correlation found were relatively low, suggesting there is not a strong relationship between the datapoints. Also, the values are negative, suggesting a negative correlation. Since the numbers are so small, however, it is likely this is due to random chance and not a true trend. A similar trend is found with blood-lead levels above 10 micrograms, shown below."
   ]
  },
  {
   "cell_type": "code",
   "execution_count": 114,
   "metadata": {},
   "outputs": [
    {
     "name": "stdout",
     "output_type": "stream",
     "text": [
      "For 2014, the correlation is: -0.08 and the covariance is: -0.15 between percentage of children with blood lead levels above 10 micrograms and leukemia incidence\n"
     ]
    }
   ],
   "source": [
    "# Calculate correlation and covariance between blood-lead levels and leukemia incidence for 2014\n",
    "lead_corr_14_10 = leukemia.corr(lead_14_10)\n",
    "lead_cov_14_10 = leukemia.cov(lead_14_10)\n",
    "print(\"For 2014, the correlation is: {:.2f} and the covariance is: {:.2f} between percentage of children with blood lead levels above 10 micrograms and leukemia incidence\".format(lead_corr_14_10, lead_cov_14_10))"
   ]
  },
  {
   "cell_type": "markdown",
   "metadata": {},
   "source": [
    "To confirm our findings, we plotted the two variables against one another. "
   ]
  },
  {
   "cell_type": "code",
   "execution_count": 115,
   "metadata": {},
   "outputs": [
    {
     "data": {
      "text/plain": [
       "Text(0.5, 1.0, 'Cancer Incidence vs 2014 Percentage of Children with Confirmed BLLs ≥ 5 µg/dL')"
      ]
     },
     "execution_count": 115,
     "metadata": {},
     "output_type": "execute_result"
    },
    {
     "data": {
      "image/png": "[encoded data removed]",
      "text/plain": [
       "<Figure size 432x288 with 1 Axes>"
      ]
     },
     "metadata": {
      "needs_background": "light"
     },
     "output_type": "display_data"
    }
   ],
   "source": [
    "# Create scatter plot for 2014 BLLs above 5 micrograms and Leukemia incidence rate\n",
    "plt.scatter(pa['Age-Adjusted Incidence Rate(‚Ä†) - cases per 100,000'], pa['2014 Percentage of Children with Confirmed BLLs ≥ 5 µg/dL'])\n",
    "plt.xticks(np.arange(5, 25, step=5))\n",
    "plt.yticks(np.arange(5, 25, step=5))\n",
    "plt.xlabel('Cancer Incidence')\n",
    "plt.ylabel('2014 Percentage of BLLs ≥ 5 µg/dL')\n",
    "plt.title('Cancer Incidence vs 2014 Percentage of Children with Confirmed BLLs ≥ 5 µg/dL')"
   ]
  },
  {
   "cell_type": "markdown",
   "metadata": {},
   "source": [
    "This chart does seem like a somewhat positive correlation, contradictory to the correlation found. "
   ]
  },
  {
   "cell_type": "code",
   "execution_count": 116,
   "metadata": {},
   "outputs": [
    {
     "data": {
      "text/plain": [
       "Text(0.5, 1.0, 'Cancer Incidence vs 2014 Percentage of Children with Confirmed BLLs ≥ 10 µg/dL')"
      ]
     },
     "execution_count": 116,
     "metadata": {},
     "output_type": "execute_result"
    },
    {
     "data": {
      "image/png": "[encoded data removed]",
      "text/plain": [
       "<Figure size 432x288 with 1 Axes>"
      ]
     },
     "metadata": {
      "needs_background": "light"
     },
     "output_type": "display_data"
    }
   ],
   "source": [
    "# Create scatter plot for 2014 BLLs above 5 micrograms and Leukemia incidence rate\n",
    "plt.scatter(pa['Age-Adjusted Incidence Rate(‚Ä†) - cases per 100,000'], pa['2014 Percentage of Children with Confirmed BLLs ≥ 10 µg/dL'])\n",
    "plt.xticks(np.arange(5, 25, step=5))\n",
    "plt.yticks(np.arange(0, 10, step=1))\n",
    "plt.xlabel('Cancer Incidence')\n",
    "plt.ylabel('2014 Percentage of BLLs ≥ 10 µg/dL')\n",
    "plt.title('Cancer Incidence vs 2014 Percentage of Children with Confirmed BLLs ≥ 10 µg/dL')"
   ]
  },
  {
   "cell_type": "markdown",
   "metadata": {},
   "source": [
    "These graphs do somewhat confirm what we found when initially looking at the covariance and correlation. Yet, both suggest a weak positive correlation between the two datasets. It seems outlier values of BLLs significantly affected both of the two graphs. "
   ]
  },
  {
   "cell_type": "markdown",
   "metadata": {},
   "source": [
    "### What happens when we remove outliers?"
   ]
  },
  {
   "cell_type": "markdown",
   "metadata": {},
   "source": [
    "The above prompted us to ask the question: what happens if we remove the blood-lead outlier in either graph? When we ran this analysis, it was determined that removing outliers does change correlation, but not significantly. The correlation remained extremely low. This can be found in the data exploration appendix."
   ]
  },
  {
   "cell_type": "markdown",
   "metadata": {},
   "source": [
    "There is much more to explore in this data."
   ]
  },
  {
   "cell_type": "markdown",
   "metadata": {},
   "source": [
    "## Now, let's move on to 2015 and 2016 Lead data..."
   ]
  },
  {
   "cell_type": "markdown",
   "metadata": {},
   "source": [
    "Now that we understood the trends for 2014, we wondered if similar ones held true for 2015 and 2016. We began looking into this by analyzing how the percentage of children with BLLs above 5 and 10 micrograms per deciliter changed between years. "
   ]
  },
  {
   "cell_type": "code",
   "execution_count": 117,
   "metadata": {},
   "outputs": [
    {
     "name": "stdout",
     "output_type": "stream",
     "text": [
      "The correlation between 2014 and 2015 for the percentage of children with blood-lead levels above 10 micrograms per deciliter is 0.86\n",
      "The correlation between 2014 and 2015 for the percentage of children with blood-lead levels above 5 micrograms per deciliter is 0.87\n"
     ]
    }
   ],
   "source": [
    "# Determine correlation between 2014 and 2015 blood-lead level data\n",
    "corr_years = pa['2015 Percentage of Children with Confirmed BLLs ≥ 10 µg/dL'].corr(pa['2014 Percentage of Children with Confirmed BLLs ≥ 10 µg/dL'])\n",
    "print(\"The correlation between 2014 and 2015 for the percentage of children with blood-lead levels above 10 micrograms per deciliter is {:.2f}\".format(corr_years))\n",
    "corr_years = pa['2015 Percentage of Children with Confirmed BLLs ≥ 5 µg/dL'].corr(pa['2014 Percentage of Children with Confirmed BLLs ≥ 5 µg/dL'])\n",
    "print(\"The correlation between 2014 and 2015 for the percentage of children with blood-lead levels above 5 micrograms per deciliter is {:.2f}\".format(corr_years))\n",
    "corr_years = pa['2016 Percentage of Children with Confirmed BLLs ≥ 10 µg/dL'].corr(pa['2014 Percentage of Children with Confirmed BLLs ≥ 10 µg/dL'])"
   ]
  },
  {
   "cell_type": "markdown",
   "metadata": {},
   "source": [
    "The correlations found are extremely high, being almost 1. This suggests that the percentage of children having elevated blood-lead levels is relatively consistent. This allows us to assume that similar trends will hold between each year, with small variations. This claim is bolstered by the following graphs, which show that the distribution of percentages does not vary."
   ]
  },
  {
   "cell_type": "code",
   "execution_count": 118,
   "metadata": {},
   "outputs": [
    {
     "data": {
      "text/plain": [
       "Text(0.5, 1.0, 'Year vs Level of Blood Lead')"
      ]
     },
     "execution_count": 118,
     "metadata": {},
     "output_type": "execute_result"
    },
    {
     "data": {
      "image/png": "[encoded data removed]",
      "text/plain": [
       "<Figure size 432x288 with 1 Axes>"
      ]
     },
     "metadata": {
      "needs_background": "light"
     },
     "output_type": "display_data"
    }
   ],
   "source": [
    "# Plot boxplot of Year vs. Blood Lead Level\n",
    "plt.boxplot([pa['2014 Percentage of Children with Confirmed BLLs ≥ 10 µg/dL'],pa['2015 Percentage of Children with Confirmed BLLs ≥ 10 µg/dL'],pa['2016 Percentage of Children with Confirmed BLLs ≥ 10 µg/dL']])\n",
    "plt.xticks(ticks = [1,2,3], labels = ['2014,10 µg/dL','2015,10 µg/dL','2016,10 µg/dL'])\n",
    "plt.xlabel('Year')\n",
    "plt.ylabel('Level of Blood Lead')\n",
    "plt.title('Year vs Level of Blood Lead')"
   ]
  },
  {
   "cell_type": "code",
   "execution_count": 119,
   "metadata": {},
   "outputs": [
    {
     "data": {
      "text/plain": [
       "Text(0.5, 1.0, 'Year vs Level of Blood Lead')"
      ]
     },
     "execution_count": 119,
     "metadata": {},
     "output_type": "execute_result"
    },
    {
     "data": {
      "image/png": "[encoded data removed]",
      "text/plain": [
       "<Figure size 432x288 with 1 Axes>"
      ]
     },
     "metadata": {
      "needs_background": "light"
     },
     "output_type": "display_data"
    }
   ],
   "source": [
    "plt.boxplot([pa['2014 Percentage of Children with Confirmed BLLs ≥ 5 µg/dL'],pa['2015 Percentage of Children with Confirmed BLLs ≥ 5 µg/dL'],pa['2016 Percentage of Children with Confirmed BLLs ≥ 5 µg/dL']])\n",
    "plt.xticks(ticks = [1,2,3], labels = ['2014,5 µg/dL','2015,5 µg/dL','2016,5 µg/dL'])\n",
    "plt.xlabel('Year')\n",
    "plt.ylabel('Level of Blood Lead')\n",
    "plt.title('Year vs Level of Blood Lead')"
   ]
  },
  {
   "cell_type": "markdown",
   "metadata": {},
   "source": [
    "From this analysis, we concluded that the year in which the data was collected would not be a significant confounding variable in our analysis, Therefore, we did not perform the analysis for all three years. Rather, we can assume similar trends exist."
   ]
  },
  {
   "cell_type": "markdown",
   "metadata": {},
   "source": [
    "## Arsenic and HAA5 data"
   ]
  },
  {
   "cell_type": "markdown",
   "metadata": {},
   "source": [
    "When we explored Arsenic and HAA5 data, we found similar trends as with lead. There is little correlation between levels of these carcinogens and Leukemia incidence rate. This analysis can be found in the Data Exploration Appendix. "
   ]
  },
  {
   "cell_type": "markdown",
   "metadata": {},
   "source": [
    "### Initial Thoughts Following Analyses"
   ]
  },
  {
   "cell_type": "markdown",
   "metadata": {},
   "source": [
    "From our initial data analysis, it does not seem that any of the three carcinogens explored are related to Leukemia incidence rate. Although this is counterintuitive and we cannot determine why this occurs, there are multiple possible explanations. They include:\n",
    "\n",
    "\n",
    "    1. Cancer incidence is not a result of a single carcinogen alone, but due to the totality of carcinogens that a person is exposed to throughout their life. Although extremely high exposure to a single carcinogen can cause cancer, as seen with radiation poisoning, doses which are barely above safe levels cannot alone cause high cancer incidence. \n",
    "    2. Leukemia may not be a cancer which is significantly influenced by carcinogens. This may be the case as the cancer is known to be prevalent in all age groups. This may hint towards Leukemia being a genetic cancer rather than one due to environment. \n",
    "    3. Leukemia is a cancer caused by carcinogens, but not the ones we have evaluated. Of the thousands of known carcinogens, we are only evaluating three. Although they are among the strongest, they may not affect Leukemia incidence.\n",
    "    4. The final possibility is that the carcinogens we are evaluating are strongly correlated to Leukemia incidence, but come from multiple sources. For example, one can be exposed to arsenic through drinking water, air breathed in, and food. It is possible that the totality of all arsenic sources leads to a higher incidence rate rather than from drinking water alone. \n",
    "    \n",
    "We cannot draw conclusions based on data exploration, despite our initial analysis possibly suggesting we will find no relationship between carcinogens and incidence rate. This is explored below. "
   ]
  },
  {
   "cell_type": "markdown",
   "metadata": {},
   "source": [
    "<h2> Preregistration Hypothesis Analysis  </h2>"
   ]
  },
  {
   "cell_type": "markdown",
   "metadata": {},
   "source": [
    "<h3> Preregistration Analysis 1 </h3>"
   ]
  },
  {
   "cell_type": "markdown",
   "metadata": {},
   "source": [
    "Our first hypothesis was that a higher percentage of children having BLLs above 5 micrograms per deciliter would have a strong positive correlation with Leukemia incidence rate. To test this, we developed a linear model for each year."
   ]
  },
  {
   "cell_type": "code",
   "execution_count": 120,
   "metadata": {},
   "outputs": [
    {
     "name": "stdout",
     "output_type": "stream",
     "text": [
      "Regression score between percentage of children above 5 micrograms of lead per deciliter of blood and Leukemia incidence rate in 2014: 0.00 \n"
     ]
    }
   ],
   "source": [
    "# Create Linear Model \n",
    "Y = pa['Age-Adjusted Incidence Rate(‚Ä†) - cases per 100,000']\n",
    "X = pa['2014 Percentage of Children with Confirmed BLLs ≥ 5 µg/dL']\n",
    "df = pd.DataFrame({'x':X, 'y':Y})\n",
    "lin_model = LinearRegression()\n",
    "linear = lin_model.fit(df[['x']], df['y'])\n",
    "print('Regression score between percentage of children above 5 micrograms of lead per deciliter of blood and Leukemia incidence rate in 2014: {:.2f} '.format(linear.score(df[['x']], df['y'])))\n"
   ]
  },
  {
   "cell_type": "markdown",
   "metadata": {},
   "source": [
    "This correlation coefficient, which is equal to 0, confirms what we found in our initial data analysis. This trend holds true for all years, as shown by our barplot below."
   ]
  },
  {
   "cell_type": "code",
   "execution_count": 121,
   "metadata": {},
   "outputs": [],
   "source": [
    "yearsMicro = []\n",
    "scores = []\n",
    "\n",
    "# Create function to make linear models for a given year and blood lead level\n",
    "def ourModel(y,year, micrograms):\n",
    "    \"\"\"\n",
    "    Returns regression score from linear model\n",
    "    y = column to be analyzed\n",
    "    year = year from which data is from\n",
    "    micrograms = micrograms of lead per deciliter\n",
    "    \"\"\"\n",
    "    Y = pa['Age-Adjusted Incidence Rate(‚Ä†) - cases per 100,000']\n",
    "    X = pa[y]\n",
    "    df = pd.DataFrame({'x':X, 'y':Y})\n",
    "    lin_model = LinearRegression()\n",
    "    linear = lin_model.fit(df[['x']], df['y'])\n",
    "    yearsMicro.append(year)\n",
    "    scores.append(linear.score(df[['x']], df['y']))\n",
    "\n",
    "# Uses above function to create linear models for years 2014, 2015, 2016 and Blood lead level >= 5 ug/dL\n",
    "ourModel('2014 Percentage of Children with Confirmed BLLs ≥ 5 µg/dL', '2014','5')\n",
    "ourModel('2015 Percentage of Children with Confirmed BLLs ≥ 5 µg/dL', '2015','5')\n",
    "ourModel('2016 Percentage of Children with Confirmed BLLs ≥ 5 µg/dL', '2016','5')"
   ]
  },
  {
   "cell_type": "code",
   "execution_count": 122,
   "metadata": {},
   "outputs": [
    {
     "data": {
      "text/plain": [
       "(0.0, 0.25)"
      ]
     },
     "execution_count": 122,
     "metadata": {},
     "output_type": "execute_result"
    },
    {
     "data": {
      "image/png": "[encoded data removed]",
      "text/plain": [
       "<Figure size 432x288 with 1 Axes>"
      ]
     },
     "metadata": {
      "needs_background": "light"
     },
     "output_type": "display_data"
    }
   ],
   "source": [
    "# Create bar graph of linear model for blood lead level >= 5 ug/dL\n",
    "plt.bar(yearsMicro,scores)\n",
    "plt.title('Correlation Coefficients of Leukemia Incidence Rates vs. Blood Lead Levels ≥ 5 µg/dL in 2014-2016')\n",
    "axes = plt.gca()\n",
    "axes.set_ylim([0,0.25])"
   ]
  },
  {
   "cell_type": "markdown",
   "metadata": {},
   "source": [
    "These results all but confirm the general trend we have discovered. With such low regression scores, it is unlikely that BLLs correlate with Leukemia incidence rate. If any of these three carcinogens affect incidence rate, it is likely in combination with others. These results caused us to dig deeper into the relationship. We decided to look at the correlation between the percentage of children with BLLs above 10 µg/dL and Leukemia incidence rate, shown below for each year."
   ]
  },
  {
   "cell_type": "code",
   "execution_count": 123,
   "metadata": {},
   "outputs": [],
   "source": [
    "# Uses same function to create linear models for years 2014, 2015, 2016 and Blood lead level >= 10 ug/dL\n",
    "ourModel('2014 Percentage of Children with Confirmed BLLs ≥ 10 µg/dL', '2014','10')\n",
    "ourModel('2015 Percentage of Children with Confirmed BLLs ≥ 10 µg/dL', '2015','10')\n",
    "ourModel('2016 Percentage of Children with Confirmed BLLs ≥ 10 µg/dL', '2016','10')"
   ]
  },
  {
   "cell_type": "code",
   "execution_count": 124,
   "metadata": {},
   "outputs": [
    {
     "data": {
      "text/plain": [
       "(0.0, 0.25)"
      ]
     },
     "execution_count": 124,
     "metadata": {},
     "output_type": "execute_result"
    },
    {
     "data": {
      "image/png": "[encoded data removed]",
      "text/plain": [
       "<Figure size 432x288 with 1 Axes>"
      ]
     },
     "metadata": {
      "needs_background": "light"
     },
     "output_type": "display_data"
    }
   ],
   "source": [
    "# Create bar graph of linear model with blood lead level >= 10 ug/dL\n",
    "plt.bar(yearsMicro,scores)\n",
    "plt.title('Correlation Coefficients of Leukemia Incidence Rates vs. Blood Lead Levels ≥ 10 µg/dL in 2014-2016')\n",
    "axes = plt.gca()\n",
    "axes.set_ylim([0,0.25])"
   ]
  },
  {
   "cell_type": "markdown",
   "metadata": {},
   "source": [
    "In order to better understand the lack of correlation between these two variables, we decided to graph some of the years. We graphed the predicted values for 2016. "
   ]
  },
  {
   "cell_type": "code",
   "execution_count": 125,
   "metadata": {},
   "outputs": [
    {
     "data": {
      "text/plain": [
       "Text(0.5, 1.0, 'True vs Predicted Leukemia Incidence')"
      ]
     },
     "execution_count": 125,
     "metadata": {},
     "output_type": "execute_result"
    },
    {
     "data": {
      "image/png": "[encoded data removed]",
      "text/plain": [
       "<Figure size 432x288 with 1 Axes>"
      ]
     },
     "metadata": {
      "needs_background": "light"
     },
     "output_type": "display_data"
    }
   ],
   "source": [
    "# Predicts leukemia incidence using linear model\n",
    "predicted = linear.predict(pa[['2016 Percentage of Children with Confirmed BLLs ≥ 10 µg/dL']])\n",
    "df['predicted'] = predicted                          \n",
    "# Creates scatter plot\n",
    "plt.scatter(df['x'], df['y'],alpha = 0.5,label = 'True', color = 'blue')\n",
    "plt.scatter(df['x'], df['predicted'],alpha = 0.5,label = 'Predicted', color = 'green')                          \n",
    "plt.legend(loc='upper right')                   \n",
    "plt.xlabel('Percentage')\n",
    "plt.ylabel('Leukemia Incidence')\n",
    "plt.title('True vs Predicted Leukemia Incidence')"
   ]
  },
  {
   "cell_type": "markdown",
   "metadata": {},
   "source": [
    "What this graph confirms is that there is no correlation between the two variables. What is especially interesting is that the line is directly in the middle of all datapoints. Let's check if the same trend exists for 5 micrograms per deciliter.  "
   ]
  },
  {
   "cell_type": "code",
   "execution_count": 126,
   "metadata": {},
   "outputs": [],
   "source": [
    "# Creates linear model \n",
    "Y = pa['Age-Adjusted Incidence Rate(‚Ä†) - cases per 100,000']\n",
    "X = pa['2016 Percentage of Children with Confirmed BLLs ≥ 5 µg/dL']\n",
    "df = pd.DataFrame({'x':X, 'y':Y})\n",
    "lin_model = LinearRegression()\n",
    "linear = lin_model.fit(df[['x']], df['y'])"
   ]
  },
  {
   "cell_type": "code",
   "execution_count": 127,
   "metadata": {},
   "outputs": [
    {
     "data": {
      "text/plain": [
       "Text(0.5, 1.0, 'True vs Predicted Leukemia Incidence')"
      ]
     },
     "execution_count": 127,
     "metadata": {},
     "output_type": "execute_result"
    },
    {
     "data": {
      "image/png": "[encoded data removed]",
      "text/plain": [
       "<Figure size 432x288 with 1 Axes>"
      ]
     },
     "metadata": {
      "needs_background": "light"
     },
     "output_type": "display_data"
    }
   ],
   "source": [
    "# Uses linear model to predict leukemia incidence rate\n",
    "predicted = linear.predict(pa[['2016 Percentage of Children with Confirmed BLLs ≥ 5 µg/dL']])\n",
    "df['predicted'] = predicted                          \n",
    "# Creates scatterplot \n",
    "plt.scatter(df['x'], df['y'],alpha = 0.5,label = 'True', color = 'blue')\n",
    "plt.scatter(df['x'], df['predicted'],alpha = 0.5,label = 'Predicted', color = 'green')                          \n",
    "plt.legend(loc='upper right')                   \n",
    "plt.xlabel('Percentage')\n",
    "plt.ylabel('Leukemia Incidence')\n",
    "plt.title('True vs Predicted Leukemia Incidence')       "
   ]
  },
  {
   "cell_type": "markdown",
   "metadata": {},
   "source": [
    "There seems to be a very slight negative correlation, but not of any significance. Following this analysis, we can infer that a linear regression was not a good, representative model. Due to this, a multivariate regression was performed. "
   ]
  },
  {
   "cell_type": "markdown",
   "metadata": {},
   "source": [
    "<h3> Analysis 2: Carcinogen Levels in Drinking Water vs Leukemia Incidence </h3>"
   ]
  },
  {
   "cell_type": "markdown",
   "metadata": {},
   "source": [
    "Our second hypothesis is that higher levels of arsenic and HAA5 in drinking water will correlate with a higher Leukemia incidence rate. To test this, we will construct a multivariate regression model for 2014, 2015, and 2016 between arsenic levels in drinking water, HAA5 levels in drinking water, Leukemia incidence rate."
   ]
  },
  {
   "cell_type": "code",
   "execution_count": 128,
   "metadata": {},
   "outputs": [],
   "source": [
    "# Create function that constructs multivariate regression model between arsenic and haa5 in drinking water\n",
    "# and age-adjusted Leukemia incidence rate for a given year\n",
    "def multi_reg(var1, var2):\n",
    "    '''\n",
    "    var1: a string representing what year and what type of carcinogen data you want to analyze \n",
    "    var2: a string representing what year and what other type of carcinogen data you want to analyze\n",
    "    Returns: the score of the multi-variate regression for the given data\n",
    "    '''\n",
    "    lin_model = LinearRegression()\n",
    "    lin_model.fit(pa[[var1, var2]], pa['Age-Adjusted Incidence Rate(‚Ä†) - cases per 100,000'])\n",
    "    return lin_model.score(pa[[var1, var2]], pa['Age-Adjusted Incidence Rate(‚Ä†) - cases per 100,000'])\n",
    "    "
   ]
  },
  {
   "cell_type": "code",
   "execution_count": 129,
   "metadata": {},
   "outputs": [
    {
     "name": "stdout",
     "output_type": "stream",
     "text": [
      "The Correlation Coefficient for arsenic levels, HAA5 levels, and Leukemia incidence rate in 2014 is: 0.08\n"
     ]
    }
   ],
   "source": [
    "# Run above function for the year 2014\n",
    "print('The Correlation Coefficient for arsenic levels, HAA5 levels, and Leukemia incidence rate in 2014 is: {:.2f}'.format(multi_reg('Weighted_Average_2014_Arsenic', 'Weighted_Average_2014_HAA5')))"
   ]
  },
  {
   "cell_type": "markdown",
   "metadata": {},
   "source": [
    "This finding refutes our hypothesis. Such a low correlation coefficient suggests that arsenic and HAA5 do not correlate with Leukemia incidence rates. However, let us look at the next two years to see if this trend continues."
   ]
  },
  {
   "cell_type": "code",
   "execution_count": 130,
   "metadata": {},
   "outputs": [
    {
     "name": "stdout",
     "output_type": "stream",
     "text": [
      "The Correlation Coefficient for arsenic levels, HAA5 levels, and Leukemia incidence rate in 2015 is: 0.33\n",
      "The Correlation Coefficient for arsenic levels, HAA5 levels, and Leukemia incidence rate in 2016 is: 0.06\n"
     ]
    }
   ],
   "source": [
    "# Run same function for the years 2015 and 2016\n",
    "print('The Correlation Coefficient for arsenic levels, HAA5 levels, and Leukemia incidence rate in 2015 is: {:.2f}'.format(multi_reg('Weighted_Average_2015_Arsenic', 'Weighted_Average_2015_HAA5')))\n",
    "print('The Correlation Coefficient for arsenic levels, HAA5 levels, and Leukemia incidence rate in 2016 is: {:.2f}'.format(multi_reg('Weighted_Average_2016_Arsenic', 'Weighted_Average_2016_HAA5')))"
   ]
  },
  {
   "cell_type": "markdown",
   "metadata": {},
   "source": [
    "Evidently, it seems across all three years, arsenic and HAA5 do not correlate with Leukemia incidence rates. These findings beg the question: why is there no correlation? There could be many reasons for this. We think a probable explanation is that arsenic and haloacetic acid cannot act alone. Perhaps it is only when many carcinogens combine that there is a visible increase in cancer. There are  too many known carcinogens to pin the increased incidence rates on just a few. To demonstrate the lack of correlation, the 3d graph below can be evaluated."
   ]
  },
  {
   "cell_type": "code",
   "execution_count": 131,
   "metadata": {},
   "outputs": [
    {
     "data": {
      "text/plain": [
       "Text(0.5, 0, 'Arsenic Levels')"
      ]
     },
     "execution_count": 131,
     "metadata": {},
     "output_type": "execute_result"
    },
    {
     "data": {
      "image/png": "[encoded data removed]",
      "text/plain": [
       "<Figure size 432x288 with 1 Axes>"
      ]
     },
     "metadata": {
      "needs_background": "light"
     },
     "output_type": "display_data"
    }
   ],
   "source": [
    "# Create 3d scatter plot\n",
    "fig = plt.figure()\n",
    "ax = fig.add_subplot(projection='3d')\n",
    "ax.scatter3D(pa['Age-Adjusted Incidence Rate(‚Ä†) - cases per 100,000'], pa['Weighted_Average_2014_HAA5'], pa['Weighted_Average_2014_Arsenic'],alpha = 0.5,label = '2014', color = 'green')\n",
    "ax.scatter3D(pa['Age-Adjusted Incidence Rate(‚Ä†) - cases per 100,000'], pa['Weighted_Average_2015_HAA5'], pa['Weighted_Average_2015_Arsenic'],alpha = 0.5,label = '2015', color = 'blue')\n",
    "ax.scatter3D(pa['Age-Adjusted Incidence Rate(‚Ä†) - cases per 100,000'], pa['Weighted_Average_2016_HAA5'], pa['Weighted_Average_2016_Arsenic'],alpha = 0.5,label = '2016', color = 'red')\n",
    "plt.xlabel('Incidence Rate')\n",
    "plt.ylabel('HAA5 Levels')\n",
    "plt.legend(loc='upper right') \n",
    "plt.title('Correlation between Carcinogen Levels and Incidence Rate By Year')\n",
    "ax.set_zlabel('Arsenic Levels')"
   ]
  },
  {
   "cell_type": "markdown",
   "metadata": {},
   "source": [
    "Although extremely weak, the correlations did become greater when compared to the linear models in this model. This may suggest that when enough carcinogens are evaluated, one can accurately predict Leukemia incidence rates. This led us to the below, which evaluates whether extremely low or high incidence rates could be due to random chance alone. "
   ]
  },
  {
   "cell_type": "markdown",
   "metadata": {},
   "source": [
    "<h2> Evalutation of Significance </h2>"
   ]
  },
  {
   "cell_type": "markdown",
   "metadata": {},
   "source": [
    "Although our analysis found that none of the carcinogens were related to Leukemia incidence rate, it is unlikely outlier incidence rates are due to chance alone. Rather, environental factors may have an effect on these numbers. This suspicion is based off of the literature on carcinogens, which indicate their presence can significantly influence cancer development. "
   ]
  },
  {
   "cell_type": "code",
   "execution_count": 132,
   "metadata": {},
   "outputs": [
    {
     "data": {
      "text/plain": [
       "Text(0.5, 1.0, 'Leukemia Incidence Rate in Pennsylvania')"
      ]
     },
     "execution_count": 132,
     "metadata": {},
     "output_type": "execute_result"
    },
    {
     "data": {
      "image/png": "[encoded data removed]",
      "text/plain": [
       "<Figure size 432x288 with 1 Axes>"
      ]
     },
     "metadata": {
      "needs_background": "light"
     },
     "output_type": "display_data"
    }
   ],
   "source": [
    "plt.hist(pa['Age-Adjusted Incidence Rate(‚Ä†) - cases per 100,000'], bins = np.linspace(10,20,20))\n",
    "plt.xlabel('Incidence Rate')\n",
    "plt.ylabel('Frequency')\n",
    "plt.title('Leukemia Incidence Rate in Pennsylvania')"
   ]
  },
  {
   "cell_type": "markdown",
   "metadata": {},
   "source": [
    "As demonstrated by this histogram, there is a tight distribution of Leukemia incidece rate between 14 and 16 cased per 100,000. Despite this, there are some outliers, such as the incidence rate around 19 and the incidence rate around 11. This  appears to be a normal distribution so this is the model we will use. "
   ]
  },
  {
   "cell_type": "code",
   "execution_count": 133,
   "metadata": {},
   "outputs": [
    {
     "data": {
      "text/html": [
       "<div>\n",
       "<style scoped>\n",
       "    .dataframe tbody tr th:only-of-type {\n",
       "        vertical-align: middle;\n",
       "    }\n",
       "\n",
       "    .dataframe tbody tr th {\n",
       "        vertical-align: top;\n",
       "    }\n",
       "\n",
       "    .dataframe thead th {\n",
       "        text-align: right;\n",
       "    }\n",
       "</style>\n",
       "<table border=\"1\" class=\"dataframe\">\n",
       "  <thead>\n",
       "    <tr style=\"text-align: right;\">\n",
       "      <th></th>\n",
       "      <th>County</th>\n",
       "      <th>Age-Adjusted Incidence Rate(‚Ä†) - cases per 100,000</th>\n",
       "    </tr>\n",
       "  </thead>\n",
       "  <tbody>\n",
       "    <tr>\n",
       "      <th>14</th>\n",
       "      <td>Indiana County</td>\n",
       "      <td>18.6</td>\n",
       "    </tr>\n",
       "    <tr>\n",
       "      <th>16</th>\n",
       "      <td>Lancaster County</td>\n",
       "      <td>18.6</td>\n",
       "    </tr>\n",
       "  </tbody>\n",
       "</table>\n",
       "</div>"
      ],
      "text/plain": [
       "              County  Age-Adjusted Incidence Rate(‚Ä†) - cases per 100,000\n",
       "14    Indiana County                                               18.6   \n",
       "16  Lancaster County                                               18.6   "
      ]
     },
     "execution_count": 133,
     "metadata": {},
     "output_type": "execute_result"
    }
   ],
   "source": [
    "# Determine county with highest Leukemia incidence rate\n",
    "highest = pa[pa['Age-Adjusted Incidence Rate(‚Ä†) - cases per 100,000']==pa['Age-Adjusted Incidence Rate(‚Ä†) - cases per 100,000'].max()]\n",
    "highest[['County','Age-Adjusted Incidence Rate(‚Ä†) - cases per 100,000']]"
   ]
  },
  {
   "cell_type": "markdown",
   "metadata": {},
   "source": [
    "The highest Leukemia incidence rates in Pennsylvania are 18.6 cases per 100,000, these being in Indiana County and Lancaster County. We examine below the probability that these high numbers are due to randomness alone. "
   ]
  },
  {
   "cell_type": "code",
   "execution_count": 134,
   "metadata": {},
   "outputs": [
    {
     "name": "stdout",
     "output_type": "stream",
     "text": [
      "The probability that the Leukemia incidence rates are as high as in Indiana County and Lancaster County is 1.43%\n"
     ]
    }
   ],
   "source": [
    "print(\"The probability that the Leukemia incidence rates are as high as in Indiana County and Lancaster County is {:.2f}%\".format(norm(18.6,pa['Age-Adjusted Incidence Rate(‚Ä†) - cases per 100,000'].mean()).pdf(pa['Age-Adjusted Incidence Rate(‚Ä†) - cases per 100,000'].std())*100))"
   ]
  },
  {
   "cell_type": "markdown",
   "metadata": {},
   "source": [
    "This probability, 1.43%, is low. This may suggest that there is some outside factor in these counties which is causing a higher than normal Leukemia incidence rate."
   ]
  },
  {
   "cell_type": "code",
   "execution_count": 135,
   "metadata": {
    "scrolled": true
   },
   "outputs": [
    {
     "data": {
      "text/html": [
       "<div>\n",
       "<style scoped>\n",
       "    .dataframe tbody tr th:only-of-type {\n",
       "        vertical-align: middle;\n",
       "    }\n",
       "\n",
       "    .dataframe tbody tr th {\n",
       "        vertical-align: top;\n",
       "    }\n",
       "\n",
       "    .dataframe thead th {\n",
       "        text-align: right;\n",
       "    }\n",
       "</style>\n",
       "<table border=\"1\" class=\"dataframe\">\n",
       "  <thead>\n",
       "    <tr style=\"text-align: right;\">\n",
       "      <th></th>\n",
       "      <th>County</th>\n",
       "      <th>Age-Adjusted Incidence Rate(‚Ä†) - cases per 100,000</th>\n",
       "    </tr>\n",
       "  </thead>\n",
       "  <tbody>\n",
       "    <tr>\n",
       "      <th>25</th>\n",
       "      <td>Philadelphia County</td>\n",
       "      <td>11.7</td>\n",
       "    </tr>\n",
       "  </tbody>\n",
       "</table>\n",
       "</div>"
      ],
      "text/plain": [
       "                 County  Age-Adjusted Incidence Rate(‚Ä†) - cases per 100,000\n",
       "25  Philadelphia County                                               11.7   "
      ]
     },
     "execution_count": 135,
     "metadata": {},
     "output_type": "execute_result"
    }
   ],
   "source": [
    "# Determine county with lowest Leukemia incidence rate\n",
    "lowest = pa[pa['Age-Adjusted Incidence Rate(‚Ä†) - cases per 100,000']==pa['Age-Adjusted Incidence Rate(‚Ä†) - cases per 100,000'].min()]\n",
    "lowest[['County','Age-Adjusted Incidence Rate(‚Ä†) - cases per 100,000']]"
   ]
  },
  {
   "cell_type": "markdown",
   "metadata": {},
   "source": [
    "The lowest Leukemia incidence rate in Pennsylvania is in Philadephia County, there being 11.7 cases per 100,000 people. "
   ]
  },
  {
   "cell_type": "code",
   "execution_count": 136,
   "metadata": {},
   "outputs": [
    {
     "name": "stdout",
     "output_type": "stream",
     "text": [
      "The probability that the Leukemia incidence rates are as low as in Philadelphia County is 2.14%\n"
     ]
    }
   ],
   "source": [
    "print(\"The probability that the Leukemia incidence rates are as low as in Philadelphia County is {:.2f}%\".format(norm(11.7,pa['Age-Adjusted Incidence Rate(‚Ä†) - cases per 100,000'].mean()).pdf(pa['Age-Adjusted Incidence Rate(‚Ä†) - cases per 100,000'].std())*100))"
   ]
  },
  {
   "cell_type": "markdown",
   "metadata": {},
   "source": [
    "This probability, 2.14%, is extremely low. Similar to the probability of the high Leukemia incidence rates, this number suggests there is some facet of Philadelphia County that leads to a lower Leukemia rate. "
   ]
  },
  {
   "cell_type": "markdown",
   "metadata": {},
   "source": [
    "Surprised that we found no correlation between carcinogen levels and Leukemia incidence rate, we began to investigate what is considered safe in drinking water across the United States. Let's explore these values and how Pennsylvania compared. \n",
    "\n",
    "\n",
    "    - The USEPA has set the healthy HAA5 levels in drinking water as 60 micrograms per liter (Massachusetts)\n",
    "    - The safe Arsenic level in drinking water is 10 micrograms per liter (Michigan)\n"
   ]
  },
  {
   "cell_type": "code",
   "execution_count": 137,
   "metadata": {},
   "outputs": [
    {
     "name": "stdout",
     "output_type": "stream",
     "text": [
      "The mean HAA5 levels in drinking water in Pennsylvania in 2016 was 11.41 micrograms per liter, well below the safe value of 60 micrograms per liter\n"
     ]
    }
   ],
   "source": [
    "haa5_2016 = pa['Weighted_Average_2016_HAA5'].dropna()\n",
    "# Calculate mean, median, std, correlation and covariance\n",
    "haa5_2016_mean = haa5_2016.mean()\n",
    "print(\"The mean HAA5 levels in drinking water in Pennsylvania in 2016 was {:.2f} micrograms per liter, well below the safe value of 60 micrograms per liter\".format(haa5_2016_mean))"
   ]
  },
  {
   "cell_type": "code",
   "execution_count": 138,
   "metadata": {},
   "outputs": [
    {
     "name": "stdout",
     "output_type": "stream",
     "text": [
      "The mean HAA5 levels in drinking water in Pennsylvania 2016 was 1.36 micrograms per liter, well below the safe value of 10 micrograms per liter\n"
     ]
    }
   ],
   "source": [
    "arsenic_2016 = pa['Weighted_Average_2016_Arsenic'].dropna()\n",
    "# Calculate mean, median, std, correlation and covariance\n",
    "arsenic_2016_mean = arsenic_2016.mean()\n",
    "print(\"The mean HAA5 levels in drinking water in Pennsylvania 2016 was {:.2f} micrograms per liter, well below the safe value of 10 micrograms per liter\".format(arsenic_2016_mean))\n"
   ]
  },
  {
   "cell_type": "markdown",
   "metadata": {},
   "source": [
    "To test the theory that Pennsylvania's arsenic levels are lower than the rest of the country, we do the following."
   ]
  },
  {
   "cell_type": "markdown",
   "metadata": {},
   "source": [
    "### T-test Analysis"
   ]
  },
  {
   "cell_type": "markdown",
   "metadata": {},
   "source": [
    "T test for mean arsenic level in water of PA:\n",
    "\n",
    "   - Ho: Mean Arsenic Level in water of PA = Mean Arsenic Level in water of US\n",
    "   - Ha: Mean Arsenic Level in water of PA < Mean Arsenic Level in water of US"
   ]
  },
  {
   "cell_type": "markdown",
   "metadata": {},
   "source": [
    "The following analysis plots the distribution of the arsenic level in water of all 31 counties in our data set and then finds the p-value of the sample mean assuming the national mean is the true mean of Pennsylvania."
   ]
  },
  {
   "cell_type": "code",
   "execution_count": 139,
   "metadata": {},
   "outputs": [
    {
     "data": {
      "image/png": "[encoded data removed]",
      "text/plain": [
       "<Figure size 432x288 with 1 Axes>"
      ]
     },
     "metadata": {
      "needs_background": "light"
     },
     "output_type": "display_data"
    },
    {
     "name": "stdout",
     "output_type": "stream",
     "text": [
      "Test statistic:  -39.745350708642135\n",
      "P-value:  3.081670695100358e-74\n"
     ]
    }
   ],
   "source": [
    "# Create function to run t test on data for a given mean and given carcinogen\n",
    "def ttest(data,mean,name):\n",
    "    '''\n",
    "    data: dataframe, the data from which the sampling distribution is created\n",
    "    mean: int, the value of the population mean \n",
    "    name: string, name of the data\n",
    "    Returns the t test statistic and p-value of the given data\n",
    "    '''\n",
    "    std = data.std()\n",
    "    distr = np.random.normal(mean,data.std(),100)\n",
    "    graph = plt.hist(distr)\n",
    "    plt.xlabel('sample mean level')\n",
    "    plt.ylabel('frequency')\n",
    "    plt.title('Sample Mean Distribution of ' + name + ' Levels in Water of PA Counties')\n",
    "    plt.axvline(color='red', linestyle='--', x=data.mean())\n",
    "    plt.show()\n",
    "    print(\"Test statistic: \", stats.ttest_ind(data,distr)[0])\n",
    "    print(\"P-value: \", stats.ttest_ind(data,distr)[1])\n",
    "\n",
    "# Uses function to run t-test on arsenic     \n",
    "ttest(pa['Weighted_Average_2016_Arsenic'], 10, 'Arsenic')"
   ]
  },
  {
   "cell_type": "markdown",
   "metadata": {},
   "source": [
    "This p-value shows us that we have sufficient statistical evidence to reject the Ho that the mean arsenic level in water for Pennsylvania is equal to the mean aresenic level in water of the entire US. Rather, Pennsylvania's mean arsenic level is below the national mean. This potentially explains why we found little to no correlation between arsenic levels in the state and Leukemia rates because perhaps Pennsylvania is just a very healthy state that has generally less carcinogens. This seems to also be true for HAA5."
   ]
  },
  {
   "cell_type": "markdown",
   "metadata": {},
   "source": [
    "T test for mean arsenic level in water of PA:\n",
    "\n",
    "   - Ho: Mean Arsenic Level in water of PA = Mean Arsenic Level in water of US\n",
    "   - Ha: Mean Arsenic Level in water of PA < Mean Arsenic Level in water of US"
   ]
  },
  {
   "cell_type": "markdown",
   "metadata": {},
   "source": [
    "The following analysis plots the distribution of the HAA5 level in water of all 31 counties in our data set and then finds the p-value of the sample mean assuming the national mean is the true mean of PA."
   ]
  },
  {
   "cell_type": "code",
   "execution_count": 140,
   "metadata": {},
   "outputs": [
    {
     "data": {
      "image/png": "[encoded data removed]",
      "text/plain": [
       "<Figure size 432x288 with 1 Axes>"
      ]
     },
     "metadata": {
      "needs_background": "light"
     },
     "output_type": "display_data"
    },
    {
     "name": "stdout",
     "output_type": "stream",
     "text": [
      "Test statistic:  -27.737462215971085\n",
      "P-value:  3.2672495234340274e-56\n"
     ]
    }
   ],
   "source": [
    "# Uses function from above to run t-test on HAA5\n",
    "ttest(pa['Weighted_Average_2016_HAA5'], 60, 'HAA5')"
   ]
  },
  {
   "cell_type": "markdown",
   "metadata": {},
   "source": [
    "This again suggests that Pennsylvania has extremely low carcinogen levels. "
   ]
  },
  {
   "cell_type": "markdown",
   "metadata": {},
   "source": [
    "## Interpretations and Conclusions"
   ]
  },
  {
   "cell_type": "markdown",
   "metadata": {},
   "source": [
    "<h3> Data Exploration </h3>\n"
   ]
  },
  {
   "cell_type": "markdown",
   "metadata": {},
   "source": [
    "The data exploration yielded interesting results. First, we discovered certain counties have extraordinarily low Leukemia incidence rates. Despite a tight distribitution of Leukemia incidence rate, certain areas, such as Philadelphia, have rates which are strikingly high or low. As cancer is an illness whose incidence is significantly affected by environmental and genetic factors, it is nearly impossible that these outliers are due to random chance alone. This is bolstered by the following information."
   ]
  },
  {
   "cell_type": "code",
   "execution_count": 141,
   "metadata": {},
   "outputs": [
    {
     "name": "stdout",
     "output_type": "stream",
     "text": [
      "If we took many, many random samples of PA counties, we can say with 95% confidence that the probability that the mean Leukemia incidence rate of the sample is as low or lower than it is in Philadelphia County is 2.14%\n"
     ]
    }
   ],
   "source": [
    "print(\"If we took many, many random samples of PA counties, we can say with 95% confidence that the probability that the mean Leukemia incidence rate of the sample is as low or lower than it is in Philadelphia County is {:.2f}%\".format(norm(11.7,pa['Age-Adjusted Incidence Rate(‚Ä†) - cases per 100,000'].mean()).pdf(pa['Age-Adjusted Incidence Rate(‚Ä†) - cases per 100,000'].std())*100))"
   ]
  },
  {
   "cell_type": "code",
   "execution_count": 142,
   "metadata": {},
   "outputs": [
    {
     "name": "stdout",
     "output_type": "stream",
     "text": [
      "If we took many, many random samples of PA counties, we can say with 95% confidence that the probability that the mean Leukemia incidence rate of the sample is as low or lower than it is in Philadelphia County is 1.43%\n"
     ]
    }
   ],
   "source": [
    "print(\"If we took many, many random samples of PA counties, we can say with 95% confidence that the probability that the mean Leukemia incidence rate of the sample is as low or lower than it is in Philadelphia County is {:.2f}%\".format(norm(18.6,pa['Age-Adjusted Incidence Rate(‚Ä†) - cases per 100,000'].mean()).pdf(pa['Age-Adjusted Incidence Rate(‚Ä†) - cases per 100,000'].std())*100))"
   ]
  },
  {
   "cell_type": "markdown",
   "metadata": {},
   "source": [
    "These probabilities emphasize that it is extremely unlikely that the relatively high and low incidence rates are due to random chance. "
   ]
  },
  {
   "cell_type": "markdown",
   "metadata": {},
   "source": [
    "During further data exploration, we found that no carcinogen in our dataset is directly related to Leukemia incidence rate alone, as shown by the heatmap of correlation values below. "
   ]
  },
  {
   "cell_type": "code",
   "execution_count": 143,
   "metadata": {},
   "outputs": [],
   "source": [
    "correlation = pa[['Age-Adjusted Incidence Rate(‚Ä†) - cases per 100,000','2014 Percentage of Children with Confirmed BLLs ≥ 10 µg/dL','2015 Percentage of Children with Confirmed BLLs ≥ 10 µg/dL','2016 Percentage of Children with Confirmed BLLs ≥ 10 µg/dL','2014 Percentage of Children with Confirmed BLLs ≥ 5 µg/dL','2015 Percentage of Children with Confirmed BLLs ≥ 5 µg/dL','2016 Percentage of Children with Confirmed BLLs ≥ 5 µg/dL','Weighted_Average_2014_HAA5','Weighted_Average_2015_HAA5','Weighted_Average_2016_HAA5','Weighted_Average_2014_Arsenic','Weighted_Average_2015_Arsenic','Weighted_Average_2016_Arsenic']]"
   ]
  },
  {
   "cell_type": "code",
   "execution_count": 144,
   "metadata": {},
   "outputs": [
    {
     "data": {
      "text/plain": [
       "[Text(0.5, 0, 'Age-Adjusted Incidence Rate(‚Ä†) - cases per 100,000'),\n",
       " Text(1.5, 0, '2014 Percentage of Children with Confirmed BLLs ≥ 10 µg/dL'),\n",
       " Text(2.5, 0, '2015 Percentage of Children with Confirmed BLLs ≥ 10 µg/dL'),\n",
       " Text(3.5, 0, '2016 Percentage of Children with Confirmed BLLs ≥ 10 µg/dL'),\n",
       " Text(4.5, 0, '2014 Percentage of Children with Confirmed BLLs ≥ 5 µg/dL'),\n",
       " Text(5.5, 0, '2015 Percentage of Children with Confirmed BLLs ≥ 5 µg/dL'),\n",
       " Text(6.5, 0, '2016 Percentage of Children with Confirmed BLLs ≥ 5 µg/dL'),\n",
       " Text(7.5, 0, 'Weighted_Average_2014_HAA5'),\n",
       " Text(8.5, 0, 'Weighted_Average_2015_HAA5'),\n",
       " Text(9.5, 0, 'Weighted_Average_2016_HAA5'),\n",
       " Text(10.5, 0, 'Weighted_Average_2014_Arsenic'),\n",
       " Text(11.5, 0, 'Weighted_Average_2015_Arsenic'),\n",
       " Text(12.5, 0, 'Weighted_Average_2016_Arsenic')]"
      ]
     },
     "execution_count": 144,
     "metadata": {},
     "output_type": "execute_result"
    },
    {
     "data": {
      "image/png": "[encoded data removed]",
      "text/plain": [
       "<Figure size 432x288 with 2 Axes>"
      ]
     },
     "metadata": {
      "needs_background": "light"
     },
     "output_type": "display_data"
    }
   ],
   "source": [
    "# Create Correlation heatmap\n",
    "corr=correlation.corr()\n",
    "ax = sns.heatmap(corr,vmin=-1,vmax=1,center=0,cmap=sns.diverging_palette(200,300,n=200),square= True,linewidths=.5)\n",
    "ax.set_xticklabels(ax.get_xticklabels(),rotation=45,horizontalalignment= 'right')"
   ]
  },
  {
   "cell_type": "markdown",
   "metadata": {},
   "source": [
    "As you can see from the heatmap above, no individual carcinogen can identify itself as a facilitator to Leukemia with convincing evidence. "
   ]
  },
  {
   "cell_type": "markdown",
   "metadata": {},
   "source": [
    "The main takeaway from our data exploration was there is little correlation between a single carcinogen's prevalence in a county and Leukemia incidence. There are multiple possible interpretations of this discovery. One is that none of the carcinogens we are exploring are directly linked to Leukemia incidence rate. Although this is unexpected, it is not an unlikely conclusion. As explored in prior research, arsenic is related to bladder and skin cancer, but not brain cancer. It is possible that arsenic is simply not related to Leukemia incidence. Our study cannot conclude why there is no relationship, but this can be explored in future research. A similar pattern could also exist for HAA5 and lead, these carcinogens simply being unrelated to Leukemia. "
   ]
  },
  {
   "cell_type": "markdown",
   "metadata": {},
   "source": [
    "A second possible interpretation of this result is that a single carcinogen at relatively low exposure levels cannot single-handedly lead to a difference in Leukemia incidence. Rather, the totality of exposure to hundreds of carcinogens throughout one's life may lead to higher Leukemia incidence. Let's explore this by determining whether carcinogens in drinking water are related to one another. "
   ]
  },
  {
   "cell_type": "code",
   "execution_count": 145,
   "metadata": {},
   "outputs": [
    {
     "data": {
      "text/plain": [
       "[Text(0.5, 0, 'Weighted_Average_2014_HAA5'),\n",
       " Text(1.5, 0, 'Weighted_Average_2015_HAA5'),\n",
       " Text(2.5, 0, 'Weighted_Average_2016_HAA5'),\n",
       " Text(3.5, 0, 'Weighted_Average_2014_Arsenic'),\n",
       " Text(4.5, 0, 'Weighted_Average_2015_Arsenic'),\n",
       " Text(5.5, 0, 'Weighted_Average_2016_Arsenic')]"
      ]
     },
     "execution_count": 145,
     "metadata": {},
     "output_type": "execute_result"
    },
    {
     "data": {
      "image/png": "[encoded data removed]",
      "text/plain": [
       "<Figure size 432x288 with 2 Axes>"
      ]
     },
     "metadata": {
      "needs_background": "light"
     },
     "output_type": "display_data"
    }
   ],
   "source": [
    "#Create heatmap of correlations between levels of carcinogens in drinking water\n",
    "drinking_water = pa[['Weighted_Average_2014_HAA5','Weighted_Average_2015_HAA5','Weighted_Average_2016_HAA5','Weighted_Average_2014_Arsenic','Weighted_Average_2015_Arsenic','Weighted_Average_2016_Arsenic']]\n",
    "corr=drinking_water.corr()\n",
    "ax = sns.heatmap(corr,vmin=-1,vmax=1,center=0,cmap=sns.diverging_palette(200,300,n=200),square= True,linewidths=.5)\n",
    "ax.set_xticklabels(ax.get_xticklabels(),rotation=45,horizontalalignment= 'right')                     \n",
    "                     "
   ]
  },
  {
   "cell_type": "markdown",
   "metadata": {},
   "source": [
    "Although these correlations do not suggest that high HAA5 levels correlate to high arsenic levels in drinking water, two things must be considered. Firstly, the correlations from year to year are relatively consistent. This suggests that carcinogen levels in a state remain stable over time. Second, there are thousands of known human carcinogens. In this study, only three are explored. Therefore, it cannot be ruled out that Leukemia is not affected by carcinogen levels in drinking water. It remains possible that one, or even all three, of these carcinogens are related to Leukemia incidence, but only when they are combined with a group of many other carcinogens."
   ]
  },
  {
   "cell_type": "markdown",
   "metadata": {},
   "source": [
    "A third interpretation of our data exploration is that Leukemia is a purely genetic cancer. This hypothesis stems from both our analysis and Leukemia's nature as both a childhood and adult cancer. This is important as environmental cancers, such as lung cancer, are only prevalent in late-stages of life. Despite this, we believe it is likely that Leukemia is  affected by environemntal factors as there is great variation in incidence across Pennsylvania."
   ]
  },
  {
   "cell_type": "markdown",
   "metadata": {},
   "source": [
    "The exploration of data we performed was extremely insightful, but, more importantly, acted as a basis for the regression models we created. These are discussed below. "
   ]
  },
  {
   "cell_type": "markdown",
   "metadata": {},
   "source": [
    "<h3> Hypothesis 1 </h3> "
   ]
  },
  {
   "cell_type": "markdown",
   "metadata": {},
   "source": [
    "Our first hypothesis was a higher percentage of children having BLLs above 5 micrograms per deciliter would correlate with higher Leukemia incidence. Utilizing BLLs as a proxy for lead exposure, a linear model was built."
   ]
  },
  {
   "cell_type": "markdown",
   "metadata": {},
   "source": [
    "We quickly discovered there is no correlation between BLLs and Leukemia incidence. With a maximum correlation coefficient of 0.03 being found, we can conclusively state that there is little to no relationship between BLLs and Leukemia incidence. This is highlighted by the graph below, which uses a linear model to predict Leukemia incidence from BLLs. "
   ]
  },
  {
   "cell_type": "code",
   "execution_count": 146,
   "metadata": {},
   "outputs": [
    {
     "data": {
      "text/plain": [
       "Text(0.5, 1.0, 'True vs Predicted Leukemia Incidence')"
      ]
     },
     "execution_count": 146,
     "metadata": {},
     "output_type": "execute_result"
    },
    {
     "data": {
      "image/png": "[encoded data removed]",
      "text/plain": [
       "<Figure size 432x288 with 1 Axes>"
      ]
     },
     "metadata": {
      "needs_background": "light"
     },
     "output_type": "display_data"
    }
   ],
   "source": [
    "predicted = linear.predict(pa[['2016 Percentage of Children with Confirmed BLLs ≥ 10 µg/dL']])\n",
    "df['predicted'] = predicted                          \n",
    "plt.scatter(df['x'], df['y'],alpha = 0.5,label = 'True', color = 'blue')\n",
    "plt.scatter(df['x'], df['predicted'],alpha = 0.5,label = 'Predicted', color = 'green')                          \n",
    "plt.legend(loc='upper right')                   \n",
    "plt.xlabel('Percentage ≥ 10 µg/dL')\n",
    "plt.ylabel('Leukemia Incidence')\n",
    "plt.title('True vs Predicted Leukemia Incidence')"
   ]
  },
  {
   "cell_type": "markdown",
   "metadata": {},
   "source": [
    "As the graph emphasizes, Leukemia incidence is unrelated to the percentage of children having elevated BLLs. Although this refutes our initial hypothesis, it does align with the results we found in our data exploration. This bolsters our interpretation that it is unlikely that a single carcinogen leads to elevated Leukemia incidence."
   ]
  },
  {
   "cell_type": "markdown",
   "metadata": {},
   "source": [
    "<h3> Hypothesis 2 </h3>"
   ]
  },
  {
   "cell_type": "markdown",
   "metadata": {},
   "source": [
    "Our second hypothesis was that elevated levels of HAA5 and Arsenic in drinking water would correlate with a higher Leukemia incidence rate in a given county. We tested this by building a multivariate regression model. Again, similar to our previous finding, our findings suggest that the carcinogens being explored do not strongly relate to Leukemia incidence rate. Despite our hypothesis being refuted, one interesting result was that a correlation coefficient of 0.33 was found in 2015. This is relatively high when compared to correlation coefficients found throughout the study. Perhaps if we add more carcinogens, the model would find stronger correlation coefficients.  This analysis led us to our final exploration."
   ]
  },
  {
   "cell_type": "markdown",
   "metadata": {},
   "source": [
    "<h3> Pennsylvania vs. US as a Whole </h3> "
   ]
  },
  {
   "cell_type": "markdown",
   "metadata": {},
   "source": [
    "Interested in the possible cause of our results, we looked into Pennsylvania with a de-magnifying glass. Rather than continue to zoom into specific counties, we decided to examine the state in the broader context of the US. Here, we discovered how the state compares to national carcinogen averages. It turns out that it is extremely below average, as emphasized by the analysis below."
   ]
  },
  {
   "cell_type": "code",
   "execution_count": 147,
   "metadata": {},
   "outputs": [
    {
     "data": {
      "image/png": "[encoded data removed]",
      "text/plain": [
       "<Figure size 432x288 with 1 Axes>"
      ]
     },
     "metadata": {
      "needs_background": "light"
     },
     "output_type": "display_data"
    },
    {
     "name": "stdout",
     "output_type": "stream",
     "text": [
      "Test statistic:  -41.00075303530226\n",
      "P-value:  7.471658034938559e-76\n"
     ]
    }
   ],
   "source": [
    "ttest(pa['Weighted_Average_2016_Arsenic'], 10, 'Arsenic')"
   ]
  },
  {
   "cell_type": "code",
   "execution_count": 148,
   "metadata": {},
   "outputs": [
    {
     "data": {
      "image/png": "[encoded data removed]",
      "text/plain": [
       "<Figure size 432x288 with 1 Axes>"
      ]
     },
     "metadata": {
      "needs_background": "light"
     },
     "output_type": "display_data"
    },
    {
     "name": "stdout",
     "output_type": "stream",
     "text": [
      "Test statistic:  -28.09469840393769\n",
      "P-value:  7.91218348288891e-57\n"
     ]
    }
   ],
   "source": [
    "ttest(pa['Weighted_Average_2016_HAA5'], 60, 'HAA5')"
   ]
  },
  {
   "cell_type": "markdown",
   "metadata": {},
   "source": [
    "As seen above, Pennsylvania's carcinogen levels are extremely below the national average. This could mean that once carcinogens are below a certain amount, they no longer have an effect on cancer incidence. Thus, counties should strive to reach a threshold and then move on to lowering the levels of another carcinogen rather than continually striving to lower only a single carcinogen while others remain high. This would be a significant finding for public health, allowing cancer incidence rates to possibly fall across the United States."
   ]
  },
  {
   "cell_type": "markdown",
   "metadata": {},
   "source": [
    "Thus, we cannot prove with conclusive evidence that the three carcinogens lead, arsenic, and HAA5 found in Pennsylvania drinking water are direct factors that lead to a rise in the Leukemia incidence rates found within Pennsylvania. This, however, does not conclusively find that these are unrelated to cancer."
   ]
  },
  {
   "cell_type": "markdown",
   "metadata": {},
   "source": [
    "## Data Limitations"
   ]
  },
  {
   "cell_type": "markdown",
   "metadata": {},
   "source": [
    "The following are limitations we see within the dataset we utilized and the conclusions we drew:"
   ]
  },
  {
   "cell_type": "markdown",
   "metadata": {},
   "source": [
    "1. Our data is only collected from a single state in the U.S. Despite our efforts to choose a state which was representative of the geographical, socio-economical, and cultural diversity of America, it is unlikely that Pennsylvania is perfectly symbolic of the entire U.S. Due to this, there could be a plethora of confounding variables specific to Pensylvania which do not apply to the rest of the country which we could not have accounted for in our analysis. If we  expand upon this project, we would obtain and explore data from multiple states rather than just the one.\n",
    "\n",
    "\n",
    "2. The data we analyzed only includes 31 of Pennsylvania's 67 counties. This would not be an issue if these counties were truly a random sample. Our method of sampling was to include the maximum number of counties which had all data we were collecting readily available and an expansive dataset to analyze. For example, if a county only had one source of arsenic level sampling, it was not included in the dataset. Another example is a county being excluded if they do not test for BLLs. This method of sampling naturally led to only the counties with the largest populations being included in the dataset. Due to this, rural areas are relatively underrepresented in our analysis. If we were to expand upon this project, we would utilize a more detailed method of sampling which allows for rural populations to have greater representation. \n",
    "\n",
    "\n",
    "3. We utilized BLLs as a proxy for the levels of lead in drinking water. This choice was made as no Pennsylvania county had the levels of lead in drinking water readily accessible. Although BLLs is most likely an effective proxy for lifetime exposure to lead from all sources, it is unlikely to represent drinking water alone. We did not account for the multiple sources from which one can be exposed to lead within our data analysis, a possible source of error. This may have also caused our project to  lose cohesiveness because we measured the other two carcinogens (Arsenic and HAA5) within the water of the counties while the lead levels were measured within the blood of the residents of the counties. If we were to expand upon this project, we would ensure to include more carcinogens, all of which would be measured by levels in drinking water. \n",
    "\n",
    "\n",
    "4. We only analyzed three carcinogens' correlations to Leukemia. While we chose these three carcinogens methodically, there are hundreds of other carcinogens that our analysis does not look at that could potentially be strongly correlated with Leukemia incidence. If we were to do this analysis again, we would gather data on more carcinogens.\n",
    "\n",
    "\n",
    "5. We obtained data of Leukemia incidence rates from a dataset which gives the averages from 2014 to 2019. This is because we could not find data on the years 2014, 2015, or 2016 alone as we did with the arsenic, HAA5, and BLLs. This means that we were finding the correlations of data that did not always match timewise.\n",
    "\n",
    "\n",
    "6. We only look at Leukemia incidence rate. There are many other cancers that could potentially be correlated with the carcinogens we analyzed. If we were to do this research again, we would analyze other cancers in the same way we did Leukemia."
   ]
  },
  {
   "cell_type": "markdown",
   "metadata": {},
   "source": [
    "<h2> References </h2> "
   ]
  },
  {
   "cell_type": "markdown",
   "metadata": {},
   "source": [
    "\n",
    "\n",
    "- Evans, S., Campbell, C., & Naidenko, O. V. (2020). Analysis of cumulative cancer risk associated with disinfection byproducts in united states drinking water. Int J Environ Res Public Health, 17(6), 2149.\n",
    "- Hao, T., Li-Talley, M., Buck, A., & Chen, W. (2019). An emerging trend of rapid increase of leukemia but not all cancers in the aging population in the United States. Scientific Reports, 9, 12070.\n",
    "- Massachusetts Department of Environmental Protection. (n.d.). HAA5 in drinking water: Information for consumers. https://www.mass.gov/service-details/haa5-in-drinking-water-information-for-consumers\n",
    "- Michigan Department fo Environment, Great Lakes, and Energy. (n.d.). Arsenic in well water.\n",
    "- Smith, A. H., Hopenhayn-Rich, C., Bates, M. N., Goeden, H. M., Hertz-Picciotto, I., Duggan, H. M., Wood, R., Kosnett, M. J., & Smith, M. T. (1992). Cancer risks from arsenic in drinking water. Environ Health Perspect, 97, 295-267.\n",
    "- Steenland, K., & Boffetta, P. (2000). Lead and cancer in humans: Where are we now? Am J Ind Med, 38(3), 295-299."
   ]
  }
 ],
 "metadata": {
  "kernelspec": {
   "display_name": "Python 3",
   "language": "python",
   "name": "python3"
  },
  "language_info": {
   "codemirror_mode": {
    "name": "ipython",
    "version": 3
   },
   "file_extension": ".py",
   "mimetype": "text/x-python",
   "name": "python",
   "nbconvert_exporter": "python",
   "pygments_lexer": "ipython3",
   "version": "3.6.8"
  }
 },
 "nbformat": 4,
 "nbformat_minor": 2
}
